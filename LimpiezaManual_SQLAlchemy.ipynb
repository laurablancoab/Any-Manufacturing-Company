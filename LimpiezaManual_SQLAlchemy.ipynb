{
 "cells": [
  {
   "cell_type": "code",
   "execution_count": 3,
   "metadata": {},
   "outputs": [],
   "source": [
    "import warnings\n",
    "warnings.filterwarnings (\"ignore\")"
   ]
  },
  {
   "cell_type": "code",
   "execution_count": 4,
   "metadata": {},
   "outputs": [],
   "source": [
    "import pandas as pd\n",
    "import numpy as np "
   ]
  },
  {
   "cell_type": "code",
   "execution_count": 8,
   "metadata": {},
   "outputs": [],
   "source": [
    "# Cargar las tablas\n",
    "Sales_final_2016 = pd.read_csv(r'C:\\Users\\isa_a\\Downloads\\archive (1)\\SalesFINAL12312016.csv')\n",
    "Purchase_final_2016 = pd.read_csv(r'C:\\Users\\isa_a\\Downloads\\archive (1)\\PurchasesFINAL12312016.csv')\n",
    "Invoice_purchases_2016 = pd.read_csv(r'C:\\Users\\isa_a\\Downloads\\archive (1)\\InvoicePurchases12312016.csv')"
   ]
  },
  {
   "cell_type": "code",
   "execution_count": 15,
   "metadata": {},
   "outputs": [
    {
     "name": "stdout",
     "output_type": "stream",
     "text": [
      "                 InventoryId  Store  Brand                 Description  \\\n",
      "0        1_HARDERSFIELD_1004      1   1004  Jim Beam w/2 Rocks Glasses   \n",
      "1        1_HARDERSFIELD_1004      1   1004  Jim Beam w/2 Rocks Glasses   \n",
      "2        1_HARDERSFIELD_1004      1   1004  Jim Beam w/2 Rocks Glasses   \n",
      "3        1_HARDERSFIELD_1004      1   1004  Jim Beam w/2 Rocks Glasses   \n",
      "4        1_HARDERSFIELD_1005      1   1005     Maker's Mark Combo Pack   \n",
      "...                      ...    ...    ...                         ...   \n",
      "1048570  19_WINTERVALE_39384     19  39384    F Coppola Diamond Pnt Nr   \n",
      "1048571  19_WINTERVALE_39384     19  39384    F Coppola Diamond Pnt Nr   \n",
      "1048572  19_WINTERVALE_39384     19  39384    F Coppola Diamond Pnt Nr   \n",
      "1048573  19_WINTERVALE_39384     19  39384    F Coppola Diamond Pnt Nr   \n",
      "1048574  19_WINTERVALE_39384     19  39384    F Coppola Diamond Pnt Nr   \n",
      "\n",
      "               Size  SalesQuantity  SalesDollars  SalesPrice  SalesDate  \\\n",
      "0             750mL              1         16.49       16.49 2016-01-01   \n",
      "1             750mL              2         32.98       16.49 2016-01-02   \n",
      "2             750mL              1         16.49       16.49 2016-01-03   \n",
      "3             750mL              1         14.49       14.49 2016-01-08   \n",
      "4        375mL 2 Pk              2         69.98       34.99 2016-01-09   \n",
      "...             ...            ...           ...         ...        ...   \n",
      "1048570       750mL              4         51.80       12.95 2016-02-12   \n",
      "1048571       750mL              8        103.60       12.95 2016-02-13   \n",
      "1048572       750mL              1         12.95       12.95 2016-02-19   \n",
      "1048573       750mL              3         38.85       12.95 2016-02-22   \n",
      "1048574       750mL              2         25.90       12.95 2016-02-24   \n",
      "\n",
      "         Volume  Classification  ExciseTax  VendorNo  \\\n",
      "0           750               1       0.79     12546   \n",
      "1           750               1       1.57     12546   \n",
      "2           750               1       0.79     12546   \n",
      "3           750               1       0.79     12546   \n",
      "4           375               1       0.79     12546   \n",
      "...         ...             ...        ...       ...   \n",
      "1048570     750               2       0.45      2000   \n",
      "1048571     750               2       0.90      2000   \n",
      "1048572     750               2       0.11      2000   \n",
      "1048573     750               2       0.34      2000   \n",
      "1048574     750               2       0.22      2000   \n",
      "\n",
      "                          VendorName  \n",
      "0        JIM BEAM BRANDS COMPANY      \n",
      "1        JIM BEAM BRANDS COMPANY      \n",
      "2        JIM BEAM BRANDS COMPANY      \n",
      "3        JIM BEAM BRANDS COMPANY      \n",
      "4        JIM BEAM BRANDS COMPANY      \n",
      "...                              ...  \n",
      "1048570  SOUTHERN WINE & SPIRITS NE   \n",
      "1048571  SOUTHERN WINE & SPIRITS NE   \n",
      "1048572  SOUTHERN WINE & SPIRITS NE   \n",
      "1048573  SOUTHERN WINE & SPIRITS NE   \n",
      "1048574  SOUTHERN WINE & SPIRITS NE   \n",
      "\n",
      "[1048575 rows x 14 columns]\n",
      "<bound method NDFrame.head of                  InventoryId  Store  Brand                 Description  \\\n",
      "0        1_HARDERSFIELD_1004      1   1004  Jim Beam w/2 Rocks Glasses   \n",
      "1        1_HARDERSFIELD_1004      1   1004  Jim Beam w/2 Rocks Glasses   \n",
      "2        1_HARDERSFIELD_1004      1   1004  Jim Beam w/2 Rocks Glasses   \n",
      "3        1_HARDERSFIELD_1004      1   1004  Jim Beam w/2 Rocks Glasses   \n",
      "4        1_HARDERSFIELD_1005      1   1005     Maker's Mark Combo Pack   \n",
      "...                      ...    ...    ...                         ...   \n",
      "1048570  19_WINTERVALE_39384     19  39384    F Coppola Diamond Pnt Nr   \n",
      "1048571  19_WINTERVALE_39384     19  39384    F Coppola Diamond Pnt Nr   \n",
      "1048572  19_WINTERVALE_39384     19  39384    F Coppola Diamond Pnt Nr   \n",
      "1048573  19_WINTERVALE_39384     19  39384    F Coppola Diamond Pnt Nr   \n",
      "1048574  19_WINTERVALE_39384     19  39384    F Coppola Diamond Pnt Nr   \n",
      "\n",
      "               Size  SalesQuantity  SalesDollars  SalesPrice  SalesDate  \\\n",
      "0             750mL              1         16.49       16.49 2016-01-01   \n",
      "1             750mL              2         32.98       16.49 2016-01-02   \n",
      "2             750mL              1         16.49       16.49 2016-01-03   \n",
      "3             750mL              1         14.49       14.49 2016-01-08   \n",
      "4        375mL 2 Pk              2         69.98       34.99 2016-01-09   \n",
      "...             ...            ...           ...         ...        ...   \n",
      "1048570       750mL              4         51.80       12.95 2016-02-12   \n",
      "1048571       750mL              8        103.60       12.95 2016-02-13   \n",
      "1048572       750mL              1         12.95       12.95 2016-02-19   \n",
      "1048573       750mL              3         38.85       12.95 2016-02-22   \n",
      "1048574       750mL              2         25.90       12.95 2016-02-24   \n",
      "\n",
      "         Volume  Classification  ExciseTax  VendorNo  \\\n",
      "0           750               1       0.79     12546   \n",
      "1           750               1       1.57     12546   \n",
      "2           750               1       0.79     12546   \n",
      "3           750               1       0.79     12546   \n",
      "4           375               1       0.79     12546   \n",
      "...         ...             ...        ...       ...   \n",
      "1048570     750               2       0.45      2000   \n",
      "1048571     750               2       0.90      2000   \n",
      "1048572     750               2       0.11      2000   \n",
      "1048573     750               2       0.34      2000   \n",
      "1048574     750               2       0.22      2000   \n",
      "\n",
      "                          VendorName  \n",
      "0        JIM BEAM BRANDS COMPANY      \n",
      "1        JIM BEAM BRANDS COMPANY      \n",
      "2        JIM BEAM BRANDS COMPANY      \n",
      "3        JIM BEAM BRANDS COMPANY      \n",
      "4        JIM BEAM BRANDS COMPANY      \n",
      "...                              ...  \n",
      "1048570  SOUTHERN WINE & SPIRITS NE   \n",
      "1048571  SOUTHERN WINE & SPIRITS NE   \n",
      "1048572  SOUTHERN WINE & SPIRITS NE   \n",
      "1048573  SOUTHERN WINE & SPIRITS NE   \n",
      "1048574  SOUTHERN WINE & SPIRITS NE   \n",
      "\n",
      "[1048575 rows x 14 columns]>\n"
     ]
    }
   ],
   "source": [
    "print (Sales_final_2016)\n",
    "print(Sales_final_2016.head)\n",
    "\n"
   ]
  },
  {
   "cell_type": "code",
   "execution_count": 16,
   "metadata": {},
   "outputs": [
    {
     "name": "stdout",
     "output_type": "stream",
     "text": [
      "<bound method NDFrame.head of                   InventoryId  Store  Brand                   Description  \\\n",
      "0           69_MOUNTMEND_8412     69   8412     Tequila Ocho Plata Fresno   \n",
      "1            30_CULCHETH_5255     30   5255  TGI Fridays Ultimte Mudslide   \n",
      "2           34_PITMERDEN_5215     34   5215  TGI Fridays Long Island Iced   \n",
      "3         1_HARDERSFIELD_5255      1   5255  TGI Fridays Ultimte Mudslide   \n",
      "4           76_DONCASTER_2034     76   2034     Glendalough Double Barrel   \n",
      "...                       ...    ...    ...                           ...   \n",
      "2372469     49_GARIGILL_22298     49  22298       Zorvino Vyds Sangiovese   \n",
      "2372470  1_HARDERSFIELD_19556      1  19556    Zorvino Bacca Z Blackberry   \n",
      "2372471   66_EANVERNESS_22297     66  22297            Zorvino Vyds Pearz   \n",
      "2372472    69_MOUNTMEND_19557     69  19557  Zorvino Fragole Z Strawberry   \n",
      "2372473    55_DRY GULCH_22298     55  22298       Zorvino Vyds Sangiovese   \n",
      "\n",
      "          Size  VendorNumber                   VendorName  PONumber  \\\n",
      "0        750mL           105  ALTAMAR BRANDS LLC               8124   \n",
      "1        1.75L          4466  AMERICAN VINTAGE BEVERAGE        8137   \n",
      "2        1.75L          4466  AMERICAN VINTAGE BEVERAGE        8137   \n",
      "3        1.75L          4466  AMERICAN VINTAGE BEVERAGE        8137   \n",
      "4        750mL           388  ATLANTIC IMPORTING COMPANY       8169   \n",
      "...        ...           ...                          ...       ...   \n",
      "2372469  750mL         90058  ZORVINO VINEYARDS               13593   \n",
      "2372470  750mL         90058  ZORVINO VINEYARDS               13593   \n",
      "2372471  750mL         90058  ZORVINO VINEYARDS               13593   \n",
      "2372472  750mL         90058  ZORVINO VINEYARDS               13593   \n",
      "2372473  750mL         90058  ZORVINO VINEYARDS               13593   \n",
      "\n",
      "             PODate ReceivingDate InvoiceDate     PayDate  PurchasePrice  \\\n",
      "0        2015-12-21    2016-01-02  2016-01-04  2016-02-16          35.71   \n",
      "1        2015-12-22    2016-01-01  2016-01-07  2016-02-21           9.35   \n",
      "2        2015-12-22    2016-01-02  2016-01-07  2016-02-21           9.41   \n",
      "3        2015-12-22    2016-01-01  2016-01-07  2016-02-21           9.35   \n",
      "4        2015-12-24    2016-01-02  2016-01-09  2016-02-16          21.32   \n",
      "...             ...           ...         ...         ...            ...   \n",
      "2372469  2016-12-19    2016-12-28  2017-01-09  2017-02-06           8.06   \n",
      "2372470  2016-12-19    2016-12-27  2017-01-09  2017-02-06           9.39   \n",
      "2372471  2016-12-19    2016-12-26  2017-01-09  2017-02-06           6.75   \n",
      "2372472  2016-12-19    2016-12-26  2017-01-09  2017-02-06           9.39   \n",
      "2372473  2016-12-19    2016-12-28  2017-01-09  2017-02-06           8.06   \n",
      "\n",
      "         Quantity  Dollars  Classification  \n",
      "0               6   214.26               1  \n",
      "1               4    37.40               1  \n",
      "2               5    47.05               1  \n",
      "3               6    56.10               1  \n",
      "4               5   106.60               1  \n",
      "...           ...      ...             ...  \n",
      "2372469        12    96.72               2  \n",
      "2372470        12   112.68               2  \n",
      "2372471        12    81.00               2  \n",
      "2372472        12   112.68               2  \n",
      "2372473        12    96.72               2  \n",
      "\n",
      "[2372474 rows x 16 columns]>\n"
     ]
    }
   ],
   "source": [
    "\n",
    "print(Purchase_final_2016.head)\n",
    "\n"
   ]
  },
  {
   "cell_type": "code",
   "execution_count": 20,
   "metadata": {},
   "outputs": [
    {
     "data": {
      "text/plain": [
       "InventoryId        object\n",
       "Store               int64\n",
       "Brand               int64\n",
       "Description        object\n",
       "Size               object\n",
       "VendorNumber        int64\n",
       "VendorName         object\n",
       "PONumber            int64\n",
       "PODate             object\n",
       "ReceivingDate      object\n",
       "InvoiceDate        object\n",
       "PayDate            object\n",
       "PurchasePrice     float64\n",
       "Quantity            int64\n",
       "Dollars           float64\n",
       "Classification      int64\n",
       "dtype: object"
      ]
     },
     "execution_count": 20,
     "metadata": {},
     "output_type": "execute_result"
    }
   ],
   "source": [
    "Purchase_final_2016.dtypes"
   ]
  },
  {
   "cell_type": "code",
   "execution_count": 24,
   "metadata": {},
   "outputs": [
    {
     "name": "stdout",
     "output_type": "stream",
     "text": [
      "Index(['InventoryId', 'Store', 'Brand', 'Description', 'Size', 'VendorNumber',\n",
      "       'VendorName', 'PONumber', 'PODate', 'ReceivingDate', 'InvoiceDate',\n",
      "       'PayDate', 'PurchasePrice', 'Quantity', 'Dollars', 'Classification'],\n",
      "      dtype='object')\n"
     ]
    }
   ],
   "source": [
    "print(Purchase_final_2016.columns)"
   ]
  },
  {
   "cell_type": "code",
   "execution_count": 26,
   "metadata": {},
   "outputs": [
    {
     "name": "stdout",
     "output_type": "stream",
     "text": [
      "<class 'pandas.core.frame.DataFrame'>\n",
      "RangeIndex: 2372474 entries, 0 to 2372473\n",
      "Data columns (total 16 columns):\n",
      " #   Column          Dtype         \n",
      "---  ------          -----         \n",
      " 0   InventoryId     object        \n",
      " 1   Store           int64         \n",
      " 2   Brand           int64         \n",
      " 3   Description     object        \n",
      " 4   Size            object        \n",
      " 5   VendorNumber    int64         \n",
      " 6   VendorName      object        \n",
      " 7   PONumber        int64         \n",
      " 8   PODate          datetime64[ns]\n",
      " 9   ReceivingDate   datetime64[ns]\n",
      " 10  InvoiceDate     datetime64[ns]\n",
      " 11  PayDate         datetime64[ns]\n",
      " 12  PurchasePrice   float64       \n",
      " 13  Quantity        int64         \n",
      " 14  Dollars         float64       \n",
      " 15  Classification  int64         \n",
      "dtypes: datetime64[ns](4), float64(2), int64(6), object(4)\n",
      "memory usage: 289.6+ MB\n",
      "None\n"
     ]
    }
   ],
   "source": [
    "# Lista de columnas a convertir\n",
    "columnas_a_convertir = ['PODate', 'ReceivingDate', 'InvoiceDate', 'PayDate']\n",
    "\n",
    "# Convertir cada columna a formato datetime\n",
    "for columna in columnas_a_convertir:\n",
    "    Purchase_final_2016[columna] = pd.to_datetime(Purchase_final_2016[columna], errors='coerce')\n",
    "\n",
    "# Verificar la conversión\n",
    "print(Purchase_final_2016.info())"
   ]
  },
  {
   "cell_type": "code",
   "execution_count": 17,
   "metadata": {},
   "outputs": [
    {
     "name": "stdout",
     "output_type": "stream",
     "text": [
      "<bound method NDFrame.head of       VendorNumber                   VendorName InvoiceDate  PONumber  \\\n",
      "0              105  ALTAMAR BRANDS LLC           2016-01-04      8124   \n",
      "1             4466  AMERICAN VINTAGE BEVERAGE    2016-01-07      8137   \n",
      "2              388  ATLANTIC IMPORTING COMPANY   2016-01-09      8169   \n",
      "3              480  BACARDI USA INC              2016-01-12      8106   \n",
      "4              516  BANFI PRODUCTS CORP          2016-01-07      8170   \n",
      "...            ...                          ...         ...       ...   \n",
      "5538          9622  WEIN BAUER INC               2017-01-06     13626   \n",
      "5539          9625  WESTERN SPIRITS BEVERAGE CO  2017-01-10     13661   \n",
      "5540          3664  WILLIAM GRANT & SONS INC     2017-01-02     13643   \n",
      "5541          9815  WINE GROUP INC               2017-01-03     13602   \n",
      "5542         90058  ZORVINO VINEYARDS            2017-01-05     13574   \n",
      "\n",
      "          PODate     PayDate  Quantity    Dollars  Freight Approval  \n",
      "0     2015-12-21  2016-02-16         6     214.26     3.47      NaN  \n",
      "1     2015-12-22  2016-02-21        15     140.55     8.57      NaN  \n",
      "2     2015-12-24  2016-02-16         5     106.60     4.61      NaN  \n",
      "3     2015-12-20  2016-02-05     10100  137483.78  2935.20      NaN  \n",
      "4     2015-12-24  2016-02-12      1935   15527.25   429.20      NaN  \n",
      "...          ...         ...       ...        ...      ...      ...  \n",
      "5538  2016-12-21  2017-02-10        90    1563.00     8.60      NaN  \n",
      "5539  2016-12-23  2017-02-18      4617   37300.48   186.50      NaN  \n",
      "5540  2016-12-22  2017-02-04      9848  202815.78   932.95      NaN  \n",
      "5541  2016-12-20  2017-02-08     24747  149007.56   819.54      NaN  \n",
      "5542  2016-12-18  2017-02-12       437    3608.11    16.60      NaN  \n",
      "\n",
      "[5543 rows x 10 columns]>\n"
     ]
    }
   ],
   "source": [
    "print(Invoice_purchases_2016.head)"
   ]
  },
  {
   "cell_type": "code",
   "execution_count": 28,
   "metadata": {},
   "outputs": [
    {
     "name": "stdout",
     "output_type": "stream",
     "text": [
      "Index(['VendorNumber', 'VendorName', 'InvoiceDate', 'PONumber', 'PODate',\n",
      "       'PayDate', 'Quantity', 'Dollars', 'Freight', 'Approval'],\n",
      "      dtype='object')\n",
      "<class 'pandas.core.frame.DataFrame'>\n",
      "RangeIndex: 5543 entries, 0 to 5542\n",
      "Data columns (total 10 columns):\n",
      " #   Column        Non-Null Count  Dtype         \n",
      "---  ------        --------------  -----         \n",
      " 0   VendorNumber  5543 non-null   int64         \n",
      " 1   VendorName    5543 non-null   object        \n",
      " 2   InvoiceDate   5543 non-null   datetime64[ns]\n",
      " 3   PONumber      5543 non-null   int64         \n",
      " 4   PODate        5543 non-null   datetime64[ns]\n",
      " 5   PayDate       5543 non-null   datetime64[ns]\n",
      " 6   Quantity      5543 non-null   int64         \n",
      " 7   Dollars       5543 non-null   float64       \n",
      " 8   Freight       5543 non-null   float64       \n",
      " 9   Approval      374 non-null    object        \n",
      "dtypes: datetime64[ns](3), float64(2), int64(3), object(2)\n",
      "memory usage: 433.2+ KB\n",
      "None\n"
     ]
    }
   ],
   "source": [
    "# Verificar las columnas en la tabla Invoice_purchase_2016\n",
    "print(Invoice_purchases_2016.columns)\n",
    "\n",
    "# Convertir las columnas de fecha en Invoice_purchase_2016\n",
    "columnas_a_convertir = ['InvoiceDate', 'PODate', 'PayDate']\n",
    "for columna in columnas_a_convertir:\n",
    "    if columna in Invoice_purchases_2016.columns:\n",
    "        Invoice_purchases_2016[columna] = pd.to_datetime(Invoice_purchases_2016[columna], errors='coerce')\n",
    "    else:\n",
    "        print(f\"La columna {columna} no se encuentra en la tabla.\")\n",
    "\n",
    "# Verificar los resultados de la conversión\n",
    "print(Invoice_purchases_2016.info())"
   ]
  },
  {
   "cell_type": "code",
   "execution_count": 11,
   "metadata": {},
   "outputs": [
    {
     "data": {
      "text/plain": [
       "InventoryId        object\n",
       "Store               int64\n",
       "Brand               int64\n",
       "Description        object\n",
       "Size               object\n",
       "SalesQuantity       int64\n",
       "SalesDollars      float64\n",
       "SalesPrice        float64\n",
       "SalesDate          object\n",
       "Volume              int64\n",
       "Classification      int64\n",
       "ExciseTax         float64\n",
       "VendorNo            int64\n",
       "VendorName         object\n",
       "dtype: object"
      ]
     },
     "execution_count": 11,
     "metadata": {},
     "output_type": "execute_result"
    }
   ],
   "source": [
    "Sales_final_2016.dtypes"
   ]
  },
  {
   "cell_type": "code",
   "execution_count": 12,
   "metadata": {},
   "outputs": [],
   "source": [
    "# Convertir la columna 'salesdate' de string a datetime\n",
    "Sales_final_2016['SalesDate'] = pd.to_datetime(Sales_final_2016['SalesDate'], errors='coerce')"
   ]
  },
  {
   "cell_type": "code",
   "execution_count": 13,
   "metadata": {},
   "outputs": [
    {
     "data": {
      "text/plain": [
       "InventoryId               object\n",
       "Store                      int64\n",
       "Brand                      int64\n",
       "Description               object\n",
       "Size                      object\n",
       "SalesQuantity              int64\n",
       "SalesDollars             float64\n",
       "SalesPrice               float64\n",
       "SalesDate         datetime64[ns]\n",
       "Volume                     int64\n",
       "Classification             int64\n",
       "ExciseTax                float64\n",
       "VendorNo                   int64\n",
       "VendorName                object\n",
       "dtype: object"
      ]
     },
     "execution_count": 13,
     "metadata": {},
     "output_type": "execute_result"
    }
   ],
   "source": [
    "Sales_final_2016.dtypes"
   ]
  },
  {
   "cell_type": "code",
   "execution_count": 18,
   "metadata": {},
   "outputs": [
    {
     "data": {
      "text/plain": [
       "InventoryId        object\n",
       "Store               int64\n",
       "Brand               int64\n",
       "Description        object\n",
       "Size               object\n",
       "VendorNumber        int64\n",
       "VendorName         object\n",
       "PONumber            int64\n",
       "PODate             object\n",
       "ReceivingDate      object\n",
       "InvoiceDate        object\n",
       "PayDate            object\n",
       "PurchasePrice     float64\n",
       "Quantity            int64\n",
       "Dollars           float64\n",
       "Classification      int64\n",
       "dtype: object"
      ]
     },
     "execution_count": 18,
     "metadata": {},
     "output_type": "execute_result"
    }
   ],
   "source": [
    "Purchase_final_2016.dtypes"
   ]
  },
  {
   "cell_type": "code",
   "execution_count": 38,
   "metadata": {},
   "outputs": [
    {
     "name": "stdout",
     "output_type": "stream",
     "text": [
      "Valores nulos en Sales_final_2016 por columna:\n",
      "InventoryId       0\n",
      "Store             0\n",
      "Brand             0\n",
      "Description       0\n",
      "Size              0\n",
      "SalesQuantity     0\n",
      "SalesDollars      0\n",
      "SalesPrice        0\n",
      "SalesDate         0\n",
      "Volume            0\n",
      "Classification    0\n",
      "ExciseTax         0\n",
      "VendorNo          0\n",
      "VendorName        0\n",
      "dtype: int64\n",
      "Valores nulos en Purchase_final_2016 por columna:\n",
      "InventoryId       0\n",
      "Store             0\n",
      "Brand             0\n",
      "Description       0\n",
      "Size              0\n",
      "VendorNumber      0\n",
      "VendorName        0\n",
      "PONumber          0\n",
      "PODate            0\n",
      "ReceivingDate     0\n",
      "InvoiceDate       0\n",
      "PayDate           0\n",
      "PurchasePrice     0\n",
      "Quantity          0\n",
      "Dollars           0\n",
      "Classification    0\n",
      "dtype: int64\n",
      "Valores nulos en Invoice_purchase_2016 por columna:\n",
      "VendorNumber       0\n",
      "VendorName         0\n",
      "InvoiceDate        0\n",
      "PONumber           0\n",
      "PODate             0\n",
      "PayDate            0\n",
      "Quantity           0\n",
      "Dollars            0\n",
      "Freight            0\n",
      "Approval        5169\n",
      "dtype: int64\n"
     ]
    }
   ],
   "source": [
    "# Para verificar valores nulos por columna\n",
    "print(\"Valores nulos en Sales_final_2016 por columna:\")\n",
    "print(Sales_final_2016.isnull().sum())\n",
    "\n",
    "print(\"Valores nulos en Purchase_final_2016 por columna:\")\n",
    "print(Purchase_final_2016.isnull().sum())\n",
    "\n",
    "print(\"Valores nulos en Invoice_purchase_2016 por columna:\")\n",
    "print(Invoice_purchases_2016.isnull().sum())"
   ]
  },
  {
   "cell_type": "code",
   "execution_count": 37,
   "metadata": {},
   "outputs": [
    {
     "name": "stdout",
     "output_type": "stream",
     "text": [
      "Size\n",
      "750mL    1207700\n",
      "1.75L     593298\n",
      "1.5L      229841\n",
      "50mL       73333\n",
      "375mL      70385\n",
      "Name: count, dtype: int64\n"
     ]
    }
   ],
   "source": [
    "# Identificar los valores más comunes en la columna\n",
    "valores_comunes = Purchase_final_2016['Size'].value_counts()\n",
    "print(valores_comunes.head(5))  # Analizar los patrones más comunes"
   ]
  },
  {
   "cell_type": "code",
   "execution_count": 39,
   "metadata": {},
   "outputs": [
    {
     "name": "stdout",
     "output_type": "stream",
     "text": [
      "Valores nulos en Sales_final_2016 por columna:\n",
      "InventoryId       0\n",
      "Store             0\n",
      "Brand             0\n",
      "Description       0\n",
      "Size              0\n",
      "SalesQuantity     0\n",
      "SalesDollars      0\n",
      "SalesPrice        0\n",
      "SalesDate         0\n",
      "Volume            0\n",
      "Classification    0\n",
      "ExciseTax         0\n",
      "VendorNo          0\n",
      "VendorName        0\n",
      "dtype: int64\n",
      "Valores nulos en Purchase_final_2016 por columna:\n",
      "InventoryId       0\n",
      "Store             0\n",
      "Brand             0\n",
      "Description       0\n",
      "Size              0\n",
      "VendorNumber      0\n",
      "VendorName        0\n",
      "PONumber          0\n",
      "PODate            0\n",
      "ReceivingDate     0\n",
      "InvoiceDate       0\n",
      "PayDate           0\n",
      "PurchasePrice     0\n",
      "Quantity          0\n",
      "Dollars           0\n",
      "Classification    0\n",
      "dtype: int64\n",
      "Valores nulos en Invoice_purchase_2016 por columna:\n",
      "VendorNumber       0\n",
      "VendorName         0\n",
      "InvoiceDate        0\n",
      "PONumber           0\n",
      "PODate             0\n",
      "PayDate            0\n",
      "Quantity           0\n",
      "Dollars            0\n",
      "Freight            0\n",
      "Approval        5169\n",
      "dtype: int64\n"
     ]
    }
   ],
   "source": [
    "# Para verificar valores nulos por columna\n",
    "print(\"Valores nulos en Sales_final_2016 por columna:\")\n",
    "print(Sales_final_2016.isnull().sum())\n",
    "\n",
    "print(\"Valores nulos en Purchase_final_2016 por columna:\")\n",
    "print(Purchase_final_2016.isnull().sum())\n",
    "\n",
    "print(\"Valores nulos en Invoice_purchase_2016 por columna:\")\n",
    "print(Invoice_purchases_2016.isnull().sum())"
   ]
  },
  {
   "cell_type": "code",
   "execution_count": 41,
   "metadata": {},
   "outputs": [
    {
     "name": "stdout",
     "output_type": "stream",
     "text": [
      "Index(['VendorNumber', 'VendorName', 'InvoiceDate', 'PONumber', 'PODate',\n",
      "       'PayDate', 'Quantity', 'Dollars', 'Freight', 'Approval'],\n",
      "      dtype='object')\n"
     ]
    }
   ],
   "source": [
    "print(Invoice_purchases_2016.columns)"
   ]
  },
  {
   "cell_type": "code",
   "execution_count": 5,
   "metadata": {},
   "outputs": [],
   "source": [
    "# Cargar archivo CSV\n",
    "df_2017PurchasePrices = pd.read_csv ('2017PurchasePricesDec.csv')"
   ]
  },
  {
   "cell_type": "code",
   "execution_count": 6,
   "metadata": {},
   "outputs": [
    {
     "name": "stdout",
     "output_type": "stream",
     "text": [
      "   Brand                  Description  Price   Size Volume  Classification  \\\n",
      "0     58  Gekkeikan Black & Gold Sake  12.99  750mL    750               1   \n",
      "1     62     Herradura Silver Tequila  36.99  750mL    750               1   \n",
      "2     63   Herradura Reposado Tequila  38.99  750mL    750               1   \n",
      "3     72         No. 3 London Dry Gin  34.99  750mL    750               1   \n",
      "4     75    Three Olives Tomato Vodka  14.99  750mL    750               1   \n",
      "\n",
      "   PurchasePrice  VendorNumber                   VendorName  \n",
      "0           9.28          8320  SHAW ROSS INT L IMP LTD      \n",
      "1          28.67          1128  BROWN-FORMAN CORP            \n",
      "2          30.46          1128  BROWN-FORMAN CORP            \n",
      "3          26.11          9165  ULTRA BEVERAGE COMPANY LLP   \n",
      "4          10.94          7245  PROXIMO SPIRITS INC.         \n",
      "<class 'pandas.core.frame.DataFrame'>\n",
      "RangeIndex: 12261 entries, 0 to 12260\n",
      "Data columns (total 9 columns):\n",
      " #   Column          Non-Null Count  Dtype  \n",
      "---  ------          --------------  -----  \n",
      " 0   Brand           12261 non-null  int64  \n",
      " 1   Description     12260 non-null  object \n",
      " 2   Price           12261 non-null  float64\n",
      " 3   Size            12260 non-null  object \n",
      " 4   Volume          12260 non-null  object \n",
      " 5   Classification  12261 non-null  int64  \n",
      " 6   PurchasePrice   12261 non-null  float64\n",
      " 7   VendorNumber    12261 non-null  int64  \n",
      " 8   VendorName      12261 non-null  object \n",
      "dtypes: float64(2), int64(3), object(4)\n",
      "memory usage: 862.2+ KB\n",
      "None\n",
      "              Brand         Price  Classification  PurchasePrice  \\\n",
      "count  12261.000000  12261.000000    12261.000000   12261.000000   \n",
      "mean   17989.067123     38.640240        1.708996      26.488220   \n",
      "std    12528.503464    206.151172        0.454244     156.182948   \n",
      "min       58.000000      0.000000        1.000000       0.000000   \n",
      "25%     5990.000000     10.990000        1.000000       6.890000   \n",
      "50%    18788.000000     15.990000        2.000000      10.650000   \n",
      "75%    25117.000000     29.990000        2.000000      20.130000   \n",
      "max    90631.000000  13999.900000        2.000000   11111.030000   \n",
      "\n",
      "        VendorNumber  \n",
      "count   12261.000000  \n",
      "mean    10814.861757  \n",
      "std     19007.682322  \n",
      "min         2.000000  \n",
      "25%      3960.000000  \n",
      "50%      7153.000000  \n",
      "75%      9552.000000  \n",
      "max    173357.000000  \n"
     ]
    }
   ],
   "source": [
    "# Verificar estructura de los datos\n",
    "print(df_2017PurchasePrices.head())\n",
    "print(df_2017PurchasePrices.info())\n",
    "print(df_2017PurchasePrices.describe())"
   ]
  },
  {
   "cell_type": "code",
   "execution_count": 7,
   "metadata": {},
   "outputs": [
    {
     "name": "stdout",
     "output_type": "stream",
     "text": [
      "Index(['Brand', 'Description', 'Price', 'Size', 'Volume', 'Classification',\n",
      "       'PurchasePrice', 'VendorNumber', 'VendorName'],\n",
      "      dtype='object')\n"
     ]
    }
   ],
   "source": [
    "print (df_2017PurchasePrices.columns)"
   ]
  },
  {
   "cell_type": "code",
   "execution_count": null,
   "metadata": {},
   "outputs": [],
   "source": [
    "# Convertir tamaños a categorías\n",
    "df_2017PurchasePrices['Size'] = df_2017PurchasePrices['Size'].astype('category')"
   ]
  },
  {
   "cell_type": "code",
   "execution_count": 8,
   "metadata": {},
   "outputs": [
    {
     "data": {
      "text/plain": [
       "Brand             0\n",
       "Description       1\n",
       "Price             0\n",
       "Size              1\n",
       "Volume            1\n",
       "Classification    0\n",
       "PurchasePrice     0\n",
       "VendorNumber      0\n",
       "VendorName        0\n",
       "dtype: int64"
      ]
     },
     "execution_count": 8,
     "metadata": {},
     "output_type": "execute_result"
    }
   ],
   "source": [
    "df_2017PurchasePrices.isnull () . sum()"
   ]
  },
  {
   "cell_type": "code",
   "execution_count": 9,
   "metadata": {},
   "outputs": [
    {
     "data": {
      "text/plain": [
       "Brand               int64\n",
       "Description        object\n",
       "Price             float64\n",
       "Size               object\n",
       "Volume             object\n",
       "Classification      int64\n",
       "PurchasePrice     float64\n",
       "VendorNumber        int64\n",
       "VendorName         object\n",
       "dtype: object"
      ]
     },
     "execution_count": 9,
     "metadata": {},
     "output_type": "execute_result"
    }
   ],
   "source": [
    "df_2017PurchasePrices.dtypes"
   ]
  },
  {
   "cell_type": "code",
   "execution_count": 10,
   "metadata": {},
   "outputs": [],
   "source": [
    "# Guardar datos limpios y normalizados\n",
    "df_2017PurchasePrices.to_csv('2017PurchasePricesFinal.csv', index=False)"
   ]
  },
  {
   "cell_type": "code",
   "execution_count": 11,
   "metadata": {},
   "outputs": [],
   "source": [
    "# Cargar archivo CSV\n",
    "df_BegInv = pd.read_csv ('BegInvFinal12312016.csv')"
   ]
  },
  {
   "cell_type": "code",
   "execution_count": 12,
   "metadata": {},
   "outputs": [
    {
     "name": "stdout",
     "output_type": "stream",
     "text": [
      "         InventoryId  Store          City  Brand                  Description  \\\n",
      "0  1_HARDERSFIELD_58      1  HARDERSFIELD     58  Gekkeikan Black & Gold Sake   \n",
      "1  1_HARDERSFIELD_60      1  HARDERSFIELD     60       Canadian Club 1858 VAP   \n",
      "2  1_HARDERSFIELD_62      1  HARDERSFIELD     62     Herradura Silver Tequila   \n",
      "3  1_HARDERSFIELD_63      1  HARDERSFIELD     63   Herradura Reposado Tequila   \n",
      "4  1_HARDERSFIELD_72      1  HARDERSFIELD     72         No. 3 London Dry Gin   \n",
      "\n",
      "    Size  onHand  Price   startDate  \n",
      "0  750mL       8  12.99  2016-01-01  \n",
      "1  750mL       7  10.99  2016-01-01  \n",
      "2  750mL       6  36.99  2016-01-01  \n",
      "3  750mL       3  38.99  2016-01-01  \n",
      "4  750mL       6  34.99  2016-01-01  \n",
      "<class 'pandas.core.frame.DataFrame'>\n",
      "RangeIndex: 206529 entries, 0 to 206528\n",
      "Data columns (total 9 columns):\n",
      " #   Column       Non-Null Count   Dtype  \n",
      "---  ------       --------------   -----  \n",
      " 0   InventoryId  206529 non-null  object \n",
      " 1   Store        206529 non-null  int64  \n",
      " 2   City         206529 non-null  object \n",
      " 3   Brand        206529 non-null  int64  \n",
      " 4   Description  206529 non-null  object \n",
      " 5   Size         206529 non-null  object \n",
      " 6   onHand       206529 non-null  int64  \n",
      " 7   Price        206529 non-null  float64\n",
      " 8   startDate    206529 non-null  object \n",
      "dtypes: float64(1), int64(3), object(5)\n",
      "memory usage: 14.2+ MB\n",
      "None\n",
      "               Store          Brand         onHand          Price\n",
      "count  206529.000000  206529.000000  206529.000000  206529.000000\n",
      "mean       42.122457   13761.482320      20.429455      22.253910\n",
      "std        23.191393   13059.429355      31.467342      70.178964\n",
      "min         1.000000      58.000000       0.000000       0.000000\n",
      "25%        22.000000    3746.000000       7.000000       9.990000\n",
      "50%        42.000000    8010.000000      12.000000      14.990000\n",
      "75%        64.000000   22143.000000      21.000000      21.990000\n",
      "max        79.000000   90090.000000    1251.000000   13999.900000\n"
     ]
    }
   ],
   "source": [
    "# Verificar estructura de los datos\n",
    "print(df_BegInv.head())\n",
    "print(df_BegInv.info())\n",
    "print(df_BegInv.describe())"
   ]
  },
  {
   "cell_type": "code",
   "execution_count": 13,
   "metadata": {},
   "outputs": [],
   "source": [
    "# Convertir tamaños a categorías\n",
    "df_BegInv['Size'] = df_BegInv['Size'].astype('category')"
   ]
  },
  {
   "cell_type": "code",
   "execution_count": 14,
   "metadata": {},
   "outputs": [],
   "source": [
    "# Convertir fechas en datetime\n",
    "df_BegInv ['startDate'] = pd.to_datetime (df_BegInv ['startDate'])"
   ]
  },
  {
   "cell_type": "code",
   "execution_count": 15,
   "metadata": {},
   "outputs": [
    {
     "data": {
      "text/plain": [
       "InventoryId            object\n",
       "Store                   int64\n",
       "City                   object\n",
       "Brand                   int64\n",
       "Description            object\n",
       "Size                 category\n",
       "onHand                  int64\n",
       "Price                 float64\n",
       "startDate      datetime64[ns]\n",
       "dtype: object"
      ]
     },
     "execution_count": 15,
     "metadata": {},
     "output_type": "execute_result"
    }
   ],
   "source": [
    "df_BegInv.dtypes"
   ]
  },
  {
   "cell_type": "code",
   "execution_count": 16,
   "metadata": {},
   "outputs": [],
   "source": [
    "# Guardar datos limpios y normalizados\n",
    "df_BegInv.to_csv('BegInvFinal.csv', index=False)"
   ]
  },
  {
   "cell_type": "code",
   "execution_count": 17,
   "metadata": {},
   "outputs": [],
   "source": [
    "# Cargar archivo CSV\n",
    "df_EndInv = pd.read_csv ('EndInvFinal12312016.csv')"
   ]
  },
  {
   "cell_type": "code",
   "execution_count": 18,
   "metadata": {},
   "outputs": [
    {
     "name": "stdout",
     "output_type": "stream",
     "text": [
      "         InventoryId  Store          City  Brand                  Description  \\\n",
      "0  1_HARDERSFIELD_58      1  HARDERSFIELD     58  Gekkeikan Black & Gold Sake   \n",
      "1  1_HARDERSFIELD_62      1  HARDERSFIELD     62     Herradura Silver Tequila   \n",
      "2  1_HARDERSFIELD_63      1  HARDERSFIELD     63   Herradura Reposado Tequila   \n",
      "3  1_HARDERSFIELD_72      1  HARDERSFIELD     72         No. 3 London Dry Gin   \n",
      "4  1_HARDERSFIELD_75      1  HARDERSFIELD     75    Three Olives Tomato Vodka   \n",
      "\n",
      "    Size  onHand  Price     endDate  \n",
      "0  750mL      11  12.99  2016-12-31  \n",
      "1  750mL       7  36.99  2016-12-31  \n",
      "2  750mL       7  38.99  2016-12-31  \n",
      "3  750mL       4  34.99  2016-12-31  \n",
      "4  750mL       7  14.99  2016-12-31  \n",
      "<class 'pandas.core.frame.DataFrame'>\n",
      "RangeIndex: 224489 entries, 0 to 224488\n",
      "Data columns (total 9 columns):\n",
      " #   Column       Non-Null Count   Dtype  \n",
      "---  ------       --------------   -----  \n",
      " 0   InventoryId  224489 non-null  object \n",
      " 1   Store        224489 non-null  int64  \n",
      " 2   City         223205 non-null  object \n",
      " 3   Brand        224489 non-null  int64  \n",
      " 4   Description  224489 non-null  object \n",
      " 5   Size         224489 non-null  object \n",
      " 6   onHand       224489 non-null  int64  \n",
      " 7   Price        224489 non-null  float64\n",
      " 8   endDate      224489 non-null  object \n",
      "dtypes: float64(1), int64(3), object(5)\n",
      "memory usage: 15.4+ MB\n",
      "None\n",
      "               Store          Brand         onHand          Price\n",
      "count  224489.000000  224489.000000  224489.000000  224489.000000\n",
      "mean       43.505740   14356.370513      21.763988      23.585583\n",
      "std        23.326415   13118.467851      37.233576      79.202775\n",
      "min         1.000000      58.000000       0.000000       0.490000\n",
      "25%        23.000000    3798.000000       7.000000       9.990000\n",
      "50%        44.000000    8259.000000      12.000000      14.990000\n",
      "75%        66.000000   23965.000000      22.000000      23.490000\n",
      "max        81.000000   90631.000000    3676.000000   13999.900000\n"
     ]
    }
   ],
   "source": [
    "# Verificar estructura de los datos\n",
    "print(df_EndInv.head())\n",
    "print(df_EndInv.info())\n",
    "print(df_EndInv.describe())"
   ]
  },
  {
   "cell_type": "code",
   "execution_count": 19,
   "metadata": {},
   "outputs": [],
   "source": [
    "# Convertir tamaños a categorías\n",
    "df_EndInv ['Size'] = df_EndInv['Size'].astype('category')"
   ]
  },
  {
   "cell_type": "code",
   "execution_count": 20,
   "metadata": {},
   "outputs": [],
   "source": [
    "# Convertir fechas en datetime\n",
    "df_EndInv['endDate'] = pd.to_datetime (df_EndInv['endDate'])"
   ]
  },
  {
   "cell_type": "code",
   "execution_count": 21,
   "metadata": {},
   "outputs": [
    {
     "data": {
      "text/plain": [
       "InventoryId            object\n",
       "Store                   int64\n",
       "City                   object\n",
       "Brand                   int64\n",
       "Description            object\n",
       "Size                 category\n",
       "onHand                  int64\n",
       "Price                 float64\n",
       "endDate        datetime64[ns]\n",
       "dtype: object"
      ]
     },
     "execution_count": 21,
     "metadata": {},
     "output_type": "execute_result"
    }
   ],
   "source": [
    "df_EndInv.dtypes"
   ]
  },
  {
   "cell_type": "code",
   "execution_count": 23,
   "metadata": {},
   "outputs": [],
   "source": [
    "# Guardar datos limpios y normalizados\n",
    "df_EndInv.to_csv('EndInvFinal.csv', index=False)"
   ]
  },
  {
   "cell_type": "code",
   "execution_count": 24,
   "metadata": {},
   "outputs": [
    {
     "name": "stdout",
     "output_type": "stream",
     "text": [
      "Requirement already satisfied: sqlalchemy in c:\\users\\silvina\\appdata\\local\\programs\\python\\python312\\lib\\site-packages (2.0.36)\n",
      "Requirement already satisfied: typing-extensions>=4.6.0 in c:\\users\\silvina\\appdata\\local\\programs\\python\\python312\\lib\\site-packages (from sqlalchemy) (4.12.2)\n",
      "Requirement already satisfied: greenlet!=0.4.17 in c:\\users\\silvina\\appdata\\local\\programs\\python\\python312\\lib\\site-packages (from sqlalchemy) (3.1.1)\n",
      "Note: you may need to restart the kernel to use updated packages.\n"
     ]
    },
    {
     "name": "stderr",
     "output_type": "stream",
     "text": [
      "\n",
      "[notice] A new release of pip is available: 24.2 -> 24.3.1\n",
      "[notice] To update, run: python.exe -m pip install --upgrade pip\n"
     ]
    }
   ],
   "source": [
    "pip install sqlalchemy "
   ]
  },
  {
   "cell_type": "code",
   "execution_count": 25,
   "metadata": {},
   "outputs": [
    {
     "name": "stdout",
     "output_type": "stream",
     "text": [
      "Requirement already satisfied: pyodbc in c:\\users\\silvina\\appdata\\local\\programs\\python\\python312\\lib\\site-packages (5.2.0)\n",
      "Note: you may need to restart the kernel to use updated packages.\n"
     ]
    },
    {
     "name": "stderr",
     "output_type": "stream",
     "text": [
      "\n",
      "[notice] A new release of pip is available: 24.2 -> 24.3.1\n",
      "[notice] To update, run: python.exe -m pip install --upgrade pip\n"
     ]
    }
   ],
   "source": [
    "pip install pyodbc"
   ]
  },
  {
   "cell_type": "code",
   "execution_count": 26,
   "metadata": {},
   "outputs": [],
   "source": [
    "#Para SQL Server\n",
    "from sqlalchemy import create_engine # Biblioteca que yo uso para conectarme con base de datos locales\n",
    "from sqlalchemy.orm import sessionmaker\n",
    "from sqlalchemy.exc import SQLAlchemyError\n",
    "import pyodbc\n",
    "import pandas as pd\n",
    "import numpy as np\n",
    "import os"
   ]
  },
  {
   "cell_type": "code",
   "execution_count": 27,
   "metadata": {},
   "outputs": [],
   "source": [
    "#optativo pero recomendable por seguridad\n",
    "from dotenv import load_dotenv "
   ]
  },
  {
   "cell_type": "code",
   "execution_count": 28,
   "metadata": {},
   "outputs": [
    {
     "data": {
      "text/plain": [
       "False"
      ]
     },
     "execution_count": 28,
     "metadata": {},
     "output_type": "execute_result"
    }
   ],
   "source": [
    "# Cargar las variables de entorno desde el archivo .env\n",
    "load_dotenv()"
   ]
  },
  {
   "cell_type": "code",
   "execution_count": 29,
   "metadata": {},
   "outputs": [],
   "source": [
    "# Obtener las variables de entorno\n",
    "password = os.getenv(\"DB_PASSWORD\")"
   ]
  },
  {
   "cell_type": "code",
   "execution_count": 31,
   "metadata": {},
   "outputs": [],
   "source": [
    "# Configuración de la conexión\n",
    "user = \"DESKTOP-ONSUG5I\\silvina\" #tu usuario SQL Server\n",
    "password = \"DB_PASSWORD\" # Reemplazar con el password de tu motor local para no exponerlo si se sube a un repositorio publico\n",
    "host = \"localhost\"\n",
    "port = \"1433\" # Puerto por defecto de SQL Server (Verificar)\n",
    "database = \"basedatos_proyectofinal_prueba\" # Nombre de la base de datos"
   ]
  },
  {
   "cell_type": "code",
   "execution_count": 32,
   "metadata": {},
   "outputs": [],
   "source": [
    "# Crear la URI de conexión para SQL Server\n",
    "connection_uri = f'mssql + pyodbc://{user}:{password}@{host}:{port}/{database}??Driver= ODBC+Driver+17+for+SQL+Server'"
   ]
  },
  {
   "cell_type": "code",
   "execution_count": null,
   "metadata": {},
   "outputs": [],
   "source": [
    "# Crear el motor de conexión\n",
    "engine = create_engine(connection_uri)"
   ]
  },
  {
   "cell_type": "code",
   "execution_count": null,
   "metadata": {},
   "outputs": [],
   "source": [
    "# Verifica que la conexión sea exitosa\n",
    "if engine.connect():\n",
    "    print(\"Conexión exitosa a la base de datos.\")\n",
    "else:\n",
    "    print(\"Error en la conexión.\")"
   ]
  }
 ],
 "metadata": {
  "kernelspec": {
   "display_name": "Python 3",
   "language": "python",
   "name": "python3"
  },
  "language_info": {
   "codemirror_mode": {
    "name": "ipython",
    "version": 3
   },
   "file_extension": ".py",
   "mimetype": "text/x-python",
   "name": "python",
   "nbconvert_exporter": "python",
   "pygments_lexer": "ipython3",
   "version": "3.12.6"
  }
 },
 "nbformat": 4,
 "nbformat_minor": 2
}
