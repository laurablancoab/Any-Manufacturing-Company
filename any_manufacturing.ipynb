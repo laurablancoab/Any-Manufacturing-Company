{
 "cells": [
  {
   "cell_type": "code",
   "execution_count": 1,
   "metadata": {},
   "outputs": [],
   "source": [
    "import pandas as pd"
   ]
  },
  {
   "cell_type": "code",
   "execution_count": 2,
   "metadata": {},
   "outputs": [],
   "source": [
    "import warnings\n",
    "warnings.filterwarnings (\"ignore\")"
   ]
  },
  {
   "cell_type": "code",
   "execution_count": 3,
   "metadata": {},
   "outputs": [],
   "source": [
    "# Función para cargar CSV\n",
    "def cargar_csv(ruta_archivo):\n",
    "    return pd.read_csv(ruta_archivo)"
   ]
  },
  {
   "cell_type": "code",
   "execution_count": 4,
   "metadata": {},
   "outputs": [],
   "source": [
    "# Archivos y rutas\n",
    "archivos = {\n",
    "    'Sales_final_2016': r'C:\\Users\\silvina\\Downloads\\HENRY\\PF Inventory\\SalesFINAL12312016.csv',\n",
    "    'Purchase_final_2016': r'C:\\Users\\silvina\\Downloads\\HENRY\\PF Inventory\\PurchasesFINAL12312016.csv',\n",
    "    'Invoice_purchases_2016': r'C:\\Users\\silvina\\Downloads\\HENRY\\PF Inventory\\InvoicePurchases12312016.csv',\n",
    "    'Purchase_Prices_2017': r'C:\\Users\\silvina\\Downloads\\HENRY\\PF Inventory\\2017PurchasePricesDec.csv',\n",
    "    'Beg_inv_final_2016': r'C:\\Users\\silvina\\Downloads\\HENRY\\PF Inventory\\BegInvFINAL12312016.csv',\n",
    "    'End_inv_final_2016': r'C:\\Users\\silvina\\Downloads\\HENRY\\PF Inventory\\EndInvFINAL12312016.csv'\n",
    "}"
   ]
  },
  {
   "cell_type": "code",
   "execution_count": 5,
   "metadata": {},
   "outputs": [],
   "source": [
    "# Cargar todas las tablas\n",
    "tablas = {nombre: cargar_csv(ruta) for nombre, ruta in archivos.items()}"
   ]
  },
  {
   "cell_type": "code",
   "execution_count": 6,
   "metadata": {},
   "outputs": [],
   "source": [
    "# Función para convertir columnas de fecha a datetime automáticamente\n",
    "def convertir_a_datetime(df):\n",
    "    for columna in df.columns:\n",
    "        if df[columna].dtype == 'object' and any(keyword in columna.lower() for keyword in ['fecha', 'date', 'timestamp']):\n",
    "            try:\n",
    "                df[columna] = pd.to_datetime(df[columna], errors='coerce')\n",
    "            except Exception as e:\n",
    "                print(f\"Error al convertir la columna {columna} a datetime: {e}\")\n",
    "    return df\n"
   ]
  },
  {
   "cell_type": "code",
   "execution_count": 7,
   "metadata": {},
   "outputs": [],
   "source": [
    "# Aplicar la conversión de fechas a todas las tablas\n",
    "tablas_con_fechas_convertidas = {nombre: convertir_a_datetime(df) for nombre, df in tablas.items()}"
   ]
  },
  {
   "cell_type": "code",
   "execution_count": 8,
   "metadata": {},
   "outputs": [
    {
     "name": "stdout",
     "output_type": "stream",
     "text": [
      "Tipos de datos para Sales_final_2016:\n",
      "InventoryId               object\n",
      "Store                      int64\n",
      "Brand                      int64\n",
      "Description               object\n",
      "Size                      object\n",
      "SalesQuantity              int64\n",
      "SalesDollars             float64\n",
      "SalesPrice               float64\n",
      "SalesDate         datetime64[ns]\n",
      "Volume                     int64\n",
      "Classification             int64\n",
      "ExciseTax                float64\n",
      "VendorNo                   int64\n",
      "VendorName                object\n",
      "dtype: object\n",
      "\n",
      "Tipos de datos para Purchase_final_2016:\n",
      "InventoryId               object\n",
      "Store                      int64\n",
      "Brand                      int64\n",
      "Description               object\n",
      "Size                      object\n",
      "VendorNumber               int64\n",
      "VendorName                object\n",
      "PONumber                   int64\n",
      "PODate            datetime64[ns]\n",
      "ReceivingDate     datetime64[ns]\n",
      "InvoiceDate       datetime64[ns]\n",
      "PayDate           datetime64[ns]\n",
      "PurchasePrice            float64\n",
      "Quantity                   int64\n",
      "Dollars                  float64\n",
      "Classification             int64\n",
      "dtype: object\n",
      "\n",
      "Tipos de datos para Invoice_purchases_2016:\n",
      "VendorNumber             int64\n",
      "VendorName              object\n",
      "InvoiceDate     datetime64[ns]\n",
      "PONumber                 int64\n",
      "PODate          datetime64[ns]\n",
      "PayDate         datetime64[ns]\n",
      "Quantity                 int64\n",
      "Dollars                float64\n",
      "Freight                float64\n",
      "Approval                object\n",
      "dtype: object\n",
      "\n",
      "Tipos de datos para Purchase_Prices_2017:\n",
      "Brand               int64\n",
      "Description        object\n",
      "Price             float64\n",
      "Size               object\n",
      "Volume             object\n",
      "Classification      int64\n",
      "PurchasePrice     float64\n",
      "VendorNumber        int64\n",
      "VendorName         object\n",
      "dtype: object\n",
      "\n",
      "Tipos de datos para Beg_inv_final_2016:\n",
      "InventoryId            object\n",
      "Store                   int64\n",
      "City                   object\n",
      "Brand                   int64\n",
      "Description            object\n",
      "Size                   object\n",
      "onHand                  int64\n",
      "Price                 float64\n",
      "startDate      datetime64[ns]\n",
      "dtype: object\n",
      "\n",
      "Tipos de datos para End_inv_final_2016:\n",
      "InventoryId            object\n",
      "Store                   int64\n",
      "City                   object\n",
      "Brand                   int64\n",
      "Description            object\n",
      "Size                   object\n",
      "onHand                  int64\n",
      "Price                 float64\n",
      "endDate        datetime64[ns]\n",
      "dtype: object\n",
      "\n"
     ]
    }
   ],
   "source": [
    "# Verificar los tipos de datos después de la conversión\n",
    "for nombre, df in tablas_con_fechas_convertidas.items():\n",
    "    print(f\"Tipos de datos para {nombre}:\")\n",
    "    print(df.dtypes)\n",
    "    print()"
   ]
  },
  {
   "cell_type": "code",
   "execution_count": 9,
   "metadata": {},
   "outputs": [],
   "source": [
    "def limpiar_nulos(df):\n",
    "    # Eliminar filas con cualquier valor nulo\n",
    "    df = df.dropna()\n",
    "# O también, si prefieres rellenar los valores nulos, puedes usar algo como:\n",
    "# Rellenar valores nulos en columnas numéricas con la media\n",
    "    for columna in df.select_dtypes(include=['float64', 'int64']).columns:\n",
    "        df[columna] = df[columna].fillna(df[columna].mean())\n",
    "# Rellenar valores nulos en columnas categóricas con la moda (valor más frecuente)\n",
    "    for columna in df.select_dtypes(include=['object']).columns:\n",
    "        df[columna] = df[columna].fillna(df[columna].mode()[0])\n",
    "\n",
    "    return df"
   ]
  },
  {
   "cell_type": "code",
   "execution_count": 10,
   "metadata": {},
   "outputs": [],
   "source": [
    "# Aplicar limpieza de nulos a todas las tablas\n",
    "tablas_sin_nulos = {nombre: limpiar_nulos(df) for nombre, df in tablas_con_fechas_convertidas.items()}"
   ]
  },
  {
   "cell_type": "code",
   "execution_count": 11,
   "metadata": {},
   "outputs": [
    {
     "name": "stdout",
     "output_type": "stream",
     "text": [
      "Conteo de valores nulos para Sales_final_2016:\n",
      "InventoryId       0\n",
      "Store             0\n",
      "Brand             0\n",
      "Description       0\n",
      "Size              0\n",
      "SalesQuantity     0\n",
      "SalesDollars      0\n",
      "SalesPrice        0\n",
      "SalesDate         0\n",
      "Volume            0\n",
      "Classification    0\n",
      "ExciseTax         0\n",
      "VendorNo          0\n",
      "VendorName        0\n",
      "dtype: int64\n",
      "           InventoryId  Store  Brand                 Description        Size  \\\n",
      "0  1_HARDERSFIELD_1004      1   1004  Jim Beam w/2 Rocks Glasses       750mL   \n",
      "1  1_HARDERSFIELD_1004      1   1004  Jim Beam w/2 Rocks Glasses       750mL   \n",
      "2  1_HARDERSFIELD_1004      1   1004  Jim Beam w/2 Rocks Glasses       750mL   \n",
      "3  1_HARDERSFIELD_1004      1   1004  Jim Beam w/2 Rocks Glasses       750mL   \n",
      "4  1_HARDERSFIELD_1005      1   1005     Maker's Mark Combo Pack  375mL 2 Pk   \n",
      "\n",
      "   SalesQuantity  SalesDollars  SalesPrice  SalesDate  Volume  Classification  \\\n",
      "0              1         16.49       16.49 2016-01-01     750               1   \n",
      "1              2         32.98       16.49 2016-01-02     750               1   \n",
      "2              1         16.49       16.49 2016-01-03     750               1   \n",
      "3              1         14.49       14.49 2016-01-08     750               1   \n",
      "4              2         69.98       34.99 2016-01-09     375               1   \n",
      "\n",
      "   ExciseTax  VendorNo                   VendorName  \n",
      "0       0.79     12546  JIM BEAM BRANDS COMPANY      \n",
      "1       1.57     12546  JIM BEAM BRANDS COMPANY      \n",
      "2       0.79     12546  JIM BEAM BRANDS COMPANY      \n",
      "3       0.79     12546  JIM BEAM BRANDS COMPANY      \n",
      "4       0.79     12546  JIM BEAM BRANDS COMPANY      \n",
      "\n",
      "Conteo de valores nulos para Purchase_final_2016:\n",
      "InventoryId       0\n",
      "Store             0\n",
      "Brand             0\n",
      "Description       0\n",
      "Size              0\n",
      "VendorNumber      0\n",
      "VendorName        0\n",
      "PONumber          0\n",
      "PODate            0\n",
      "ReceivingDate     0\n",
      "InvoiceDate       0\n",
      "PayDate           0\n",
      "PurchasePrice     0\n",
      "Quantity          0\n",
      "Dollars           0\n",
      "Classification    0\n",
      "dtype: int64\n",
      "           InventoryId  Store  Brand                   Description   Size  \\\n",
      "0    69_MOUNTMEND_8412     69   8412     Tequila Ocho Plata Fresno  750mL   \n",
      "1     30_CULCHETH_5255     30   5255  TGI Fridays Ultimte Mudslide  1.75L   \n",
      "2    34_PITMERDEN_5215     34   5215  TGI Fridays Long Island Iced  1.75L   \n",
      "3  1_HARDERSFIELD_5255      1   5255  TGI Fridays Ultimte Mudslide  1.75L   \n",
      "4    76_DONCASTER_2034     76   2034     Glendalough Double Barrel  750mL   \n",
      "\n",
      "   VendorNumber                   VendorName  PONumber     PODate  \\\n",
      "0           105  ALTAMAR BRANDS LLC               8124 2015-12-21   \n",
      "1          4466  AMERICAN VINTAGE BEVERAGE        8137 2015-12-22   \n",
      "2          4466  AMERICAN VINTAGE BEVERAGE        8137 2015-12-22   \n",
      "3          4466  AMERICAN VINTAGE BEVERAGE        8137 2015-12-22   \n",
      "4           388  ATLANTIC IMPORTING COMPANY       8169 2015-12-24   \n",
      "\n",
      "  ReceivingDate InvoiceDate    PayDate  PurchasePrice  Quantity  Dollars  \\\n",
      "0    2016-01-02  2016-01-04 2016-02-16          35.71         6   214.26   \n",
      "1    2016-01-01  2016-01-07 2016-02-21           9.35         4    37.40   \n",
      "2    2016-01-02  2016-01-07 2016-02-21           9.41         5    47.05   \n",
      "3    2016-01-01  2016-01-07 2016-02-21           9.35         6    56.10   \n",
      "4    2016-01-02  2016-01-09 2016-02-16          21.32         5   106.60   \n",
      "\n",
      "   Classification  \n",
      "0               1  \n",
      "1               1  \n",
      "2               1  \n",
      "3               1  \n",
      "4               1  \n",
      "\n",
      "Conteo de valores nulos para Invoice_purchases_2016:\n",
      "VendorNumber    0\n",
      "VendorName      0\n",
      "InvoiceDate     0\n",
      "PONumber        0\n",
      "PODate          0\n",
      "PayDate         0\n",
      "Quantity        0\n",
      "Dollars         0\n",
      "Freight         0\n",
      "Approval        0\n",
      "dtype: int64\n",
      "     VendorNumber                   VendorName InvoiceDate  PONumber  \\\n",
      "93            480  BACARDI USA INC              2016-01-19      8288   \n",
      "97           1128  BROWN-FORMAN CORP            2016-01-15      8210   \n",
      "109          3960  DIAGEO NORTH AMERICA INC     2016-01-14      8271   \n",
      "126         12546  JIM BEAM BRANDS COMPANY      2016-01-16      8241   \n",
      "137          4425        MARTIGNETTI COMPANIES  2016-01-18      8276   \n",
      "\n",
      "        PODate    PayDate  Quantity    Dollars  Freight        Approval  \n",
      "93  2016-01-01 2016-02-18     32463  396606.13  1864.05  Frank Delahunt  \n",
      "97  2015-12-27 2016-02-25     23351  298902.89  1494.51  Frank Delahunt  \n",
      "109 2015-12-31 2016-02-11    100183  954454.16  4581.38  Frank Delahunt  \n",
      "126 2015-12-29 2016-02-15     56213  559691.95  2910.40  Frank Delahunt  \n",
      "137 2015-12-31 2016-02-28     42400  458222.53  2336.93  Frank Delahunt  \n",
      "\n",
      "Conteo de valores nulos para Purchase_Prices_2017:\n",
      "Brand             0\n",
      "Description       0\n",
      "Price             0\n",
      "Size              0\n",
      "Volume            0\n",
      "Classification    0\n",
      "PurchasePrice     0\n",
      "VendorNumber      0\n",
      "VendorName        0\n",
      "dtype: int64\n",
      "   Brand                  Description  Price   Size Volume  Classification  \\\n",
      "0     58  Gekkeikan Black & Gold Sake  12.99  750mL    750               1   \n",
      "1     62     Herradura Silver Tequila  36.99  750mL    750               1   \n",
      "2     63   Herradura Reposado Tequila  38.99  750mL    750               1   \n",
      "3     72         No. 3 London Dry Gin  34.99  750mL    750               1   \n",
      "4     75    Three Olives Tomato Vodka  14.99  750mL    750               1   \n",
      "\n",
      "   PurchasePrice  VendorNumber                   VendorName  \n",
      "0           9.28          8320  SHAW ROSS INT L IMP LTD      \n",
      "1          28.67          1128  BROWN-FORMAN CORP            \n",
      "2          30.46          1128  BROWN-FORMAN CORP            \n",
      "3          26.11          9165  ULTRA BEVERAGE COMPANY LLP   \n",
      "4          10.94          7245  PROXIMO SPIRITS INC.         \n",
      "\n",
      "Conteo de valores nulos para Beg_inv_final_2016:\n",
      "InventoryId    0\n",
      "Store          0\n",
      "City           0\n",
      "Brand          0\n",
      "Description    0\n",
      "Size           0\n",
      "onHand         0\n",
      "Price          0\n",
      "startDate      0\n",
      "dtype: int64\n",
      "         InventoryId  Store          City  Brand                  Description  \\\n",
      "0  1_HARDERSFIELD_58      1  HARDERSFIELD     58  Gekkeikan Black & Gold Sake   \n",
      "1  1_HARDERSFIELD_60      1  HARDERSFIELD     60       Canadian Club 1858 VAP   \n",
      "2  1_HARDERSFIELD_62      1  HARDERSFIELD     62     Herradura Silver Tequila   \n",
      "3  1_HARDERSFIELD_63      1  HARDERSFIELD     63   Herradura Reposado Tequila   \n",
      "4  1_HARDERSFIELD_72      1  HARDERSFIELD     72         No. 3 London Dry Gin   \n",
      "\n",
      "    Size  onHand  Price  startDate  \n",
      "0  750mL       8  12.99 2016-01-01  \n",
      "1  750mL       7  10.99 2016-01-01  \n",
      "2  750mL       6  36.99 2016-01-01  \n",
      "3  750mL       3  38.99 2016-01-01  \n",
      "4  750mL       6  34.99 2016-01-01  \n",
      "\n",
      "Conteo de valores nulos para End_inv_final_2016:\n",
      "InventoryId    0\n",
      "Store          0\n",
      "City           0\n",
      "Brand          0\n",
      "Description    0\n",
      "Size           0\n",
      "onHand         0\n",
      "Price          0\n",
      "endDate        0\n",
      "dtype: int64\n",
      "         InventoryId  Store          City  Brand                  Description  \\\n",
      "0  1_HARDERSFIELD_58      1  HARDERSFIELD     58  Gekkeikan Black & Gold Sake   \n",
      "1  1_HARDERSFIELD_62      1  HARDERSFIELD     62     Herradura Silver Tequila   \n",
      "2  1_HARDERSFIELD_63      1  HARDERSFIELD     63   Herradura Reposado Tequila   \n",
      "3  1_HARDERSFIELD_72      1  HARDERSFIELD     72         No. 3 London Dry Gin   \n",
      "4  1_HARDERSFIELD_75      1  HARDERSFIELD     75    Three Olives Tomato Vodka   \n",
      "\n",
      "    Size  onHand  Price    endDate  \n",
      "0  750mL      11  12.99 2016-12-31  \n",
      "1  750mL       7  36.99 2016-12-31  \n",
      "2  750mL       7  38.99 2016-12-31  \n",
      "3  750mL       4  34.99 2016-12-31  \n",
      "4  750mL       7  14.99 2016-12-31  \n",
      "\n"
     ]
    }
   ],
   "source": [
    "# Verificar que no haya más valores nulos\n",
    "for nombre, df in tablas_sin_nulos.items():\n",
    "    print(f\"Conteo de valores nulos para {nombre}:\")\n",
    "    print(df.isnull().sum())  # Muestra la cantidad de nulos por columna\n",
    "    print(df.head())  # Muestra las primeras filas del DataFrame\n",
    "    print()"
   ]
  },
  {
   "cell_type": "code",
   "execution_count": 12,
   "metadata": {},
   "outputs": [
    {
     "name": "stdout",
     "output_type": "stream",
     "text": [
      "Requirement already satisfied: sqlalchemy in c:\\users\\silvina\\appdata\\local\\programs\\python\\python312\\lib\\site-packages (2.0.36)\n",
      "Requirement already satisfied: typing-extensions>=4.6.0 in c:\\users\\silvina\\appdata\\local\\programs\\python\\python312\\lib\\site-packages (from sqlalchemy) (4.12.2)\n",
      "Requirement already satisfied: greenlet!=0.4.17 in c:\\users\\silvina\\appdata\\local\\programs\\python\\python312\\lib\\site-packages (from sqlalchemy) (3.1.1)\n",
      "Note: you may need to restart the kernel to use updated packages.\n"
     ]
    },
    {
     "name": "stderr",
     "output_type": "stream",
     "text": [
      "\n",
      "[notice] A new release of pip is available: 24.2 -> 24.3.1\n",
      "[notice] To update, run: python.exe -m pip install --upgrade pip\n"
     ]
    }
   ],
   "source": [
    "pip install sqlalchemy "
   ]
  },
  {
   "cell_type": "code",
   "execution_count": 13,
   "metadata": {},
   "outputs": [
    {
     "name": "stdout",
     "output_type": "stream",
     "text": [
      "Requirement already satisfied: pyodbc in c:\\users\\silvina\\appdata\\local\\programs\\python\\python312\\lib\\site-packages (5.2.0)\n",
      "Note: you may need to restart the kernel to use updated packages.\n"
     ]
    },
    {
     "name": "stderr",
     "output_type": "stream",
     "text": [
      "\n",
      "[notice] A new release of pip is available: 24.2 -> 24.3.1\n",
      "[notice] To update, run: python.exe -m pip install --upgrade pip\n"
     ]
    }
   ],
   "source": [
    "pip install pyodbc"
   ]
  },
  {
   "cell_type": "code",
   "execution_count": 15,
   "metadata": {},
   "outputs": [],
   "source": [
    "df.to_csv('any_manufacturing.csv', index=False)"
   ]
  },
  {
   "cell_type": "code",
   "execution_count": 16,
   "metadata": {},
   "outputs": [
    {
     "data": {
      "text/plain": [
       "'c:\\\\Users\\\\silvina\\\\Downloads\\\\HENRY\\\\PF Inventory'"
      ]
     },
     "execution_count": 16,
     "metadata": {},
     "output_type": "execute_result"
    }
   ],
   "source": [
    "pwd"
   ]
  },
  {
   "cell_type": "code",
   "execution_count": 17,
   "metadata": {},
   "outputs": [],
   "source": [
    "#Para SQL Server\n",
    "from sqlalchemy import create_engine # Biblioteca que yo uso para conectarme con base de datos locales\n",
    "from sqlalchemy.orm import sessionmaker\n",
    "from sqlalchemy.exc import SQLAlchemyError\n",
    "import pyodbc\n",
    "import pandas as pd\n",
    "import numpy as np\n",
    "import os\n"
   ]
  },
  {
   "cell_type": "code",
   "execution_count": 19,
   "metadata": {},
   "outputs": [],
   "source": [
    "#optativo pero recomendable por seguridad\n",
    "from dotenv import load_dotenv \n"
   ]
  },
  {
   "cell_type": "code",
   "execution_count": 20,
   "metadata": {},
   "outputs": [
    {
     "data": {
      "text/plain": [
       "False"
      ]
     },
     "execution_count": 20,
     "metadata": {},
     "output_type": "execute_result"
    }
   ],
   "source": [
    "# Cargar las variables de entorno desde el archivo .env\n",
    "load_dotenv()"
   ]
  },
  {
   "cell_type": "code",
   "execution_count": 21,
   "metadata": {},
   "outputs": [],
   "source": [
    "# Obtener las variables de entorno\n",
    "password = os.getenv(\"DB_PASSWORD\")"
   ]
  },
  {
   "cell_type": "code",
   "execution_count": 22,
   "metadata": {},
   "outputs": [],
   "source": [
    "# Configuración de la conexión\n",
    "user = \"DESKTOP-ONSUG5I\\silvina\" #tu usuario SQL Server\n",
    "password = password # Reemplazar con el password de tu motor local para no exponerlo si se sube a un repositorio publico\n",
    "host = \"localhost\"\n",
    "port = \"1433\" # Puerto por defecto de SQL Server (Verificar)\n",
    "database = \"basedatos_proyectofinal_prueba\" # Nombre de la base de datos"
   ]
  },
  {
   "cell_type": "code",
   "execution_count": 23,
   "metadata": {},
   "outputs": [],
   "source": [
    "# Crear la URI de conexión para SQL Server\n",
    "connection_uri = f'mssql + pyodbc://{user}:{password}@{host}:{port}/{database}??Driver= ODBC+Driver+17+for+SQL+Server'"
   ]
  },
  {
   "cell_type": "code",
   "execution_count": null,
   "metadata": {},
   "outputs": [],
   "source": [
    "# Crear el motor de conexión\n",
    "engine = create_engine(connection_uri)"
   ]
  },
  {
   "cell_type": "code",
   "execution_count": null,
   "metadata": {},
   "outputs": [],
   "source": [
    "# Verifica que la conexión sea exitosa\n",
    "if engine.connect():\n",
    "    print(\"Conexión exitosa a la base de datos.\")\n",
    "else:\n",
    "    print(\"Error en la conexión.\")\n"
   ]
  }
 ],
 "metadata": {
  "kernelspec": {
   "display_name": "Python 3",
   "language": "python",
   "name": "python3"
  },
  "language_info": {
   "codemirror_mode": {
    "name": "ipython",
    "version": 3
   },
   "file_extension": ".py",
   "mimetype": "text/x-python",
   "name": "python",
   "nbconvert_exporter": "python",
   "pygments_lexer": "ipython3",
   "version": "3.12.6"
  }
 },
 "nbformat": 4,
 "nbformat_minor": 2
}
