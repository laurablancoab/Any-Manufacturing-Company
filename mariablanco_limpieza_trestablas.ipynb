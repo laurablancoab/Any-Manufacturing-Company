{
 "cells": [
  {
   "cell_type": "code",
   "execution_count": 1,
   "metadata": {},
   "outputs": [],
   "source": [
    "import pandas as pd\n",
    "import numpy as np "
   ]
  },
  {
   "cell_type": "code",
   "execution_count": 8,
   "metadata": {},
   "outputs": [],
   "source": [
    "# Cargar las tablas\n",
    "Sales_final_2016 = pd.read_csv(r'C:\\Users\\isa_a\\Downloads\\archive (1)\\SalesFINAL12312016.csv')\n",
    "Purchase_final_2016 = pd.read_csv(r'C:\\Users\\isa_a\\Downloads\\archive (1)\\PurchasesFINAL12312016.csv')\n",
    "Invoice_purchases_2016 = pd.read_csv(r'C:\\Users\\isa_a\\Downloads\\archive (1)\\InvoicePurchases12312016.csv')"
   ]
  },
  {
   "cell_type": "code",
   "execution_count": 15,
   "metadata": {},
   "outputs": [
    {
     "name": "stdout",
     "output_type": "stream",
     "text": [
      "                 InventoryId  Store  Brand                 Description  \\\n",
      "0        1_HARDERSFIELD_1004      1   1004  Jim Beam w/2 Rocks Glasses   \n",
      "1        1_HARDERSFIELD_1004      1   1004  Jim Beam w/2 Rocks Glasses   \n",
      "2        1_HARDERSFIELD_1004      1   1004  Jim Beam w/2 Rocks Glasses   \n",
      "3        1_HARDERSFIELD_1004      1   1004  Jim Beam w/2 Rocks Glasses   \n",
      "4        1_HARDERSFIELD_1005      1   1005     Maker's Mark Combo Pack   \n",
      "...                      ...    ...    ...                         ...   \n",
      "1048570  19_WINTERVALE_39384     19  39384    F Coppola Diamond Pnt Nr   \n",
      "1048571  19_WINTERVALE_39384     19  39384    F Coppola Diamond Pnt Nr   \n",
      "1048572  19_WINTERVALE_39384     19  39384    F Coppola Diamond Pnt Nr   \n",
      "1048573  19_WINTERVALE_39384     19  39384    F Coppola Diamond Pnt Nr   \n",
      "1048574  19_WINTERVALE_39384     19  39384    F Coppola Diamond Pnt Nr   \n",
      "\n",
      "               Size  SalesQuantity  SalesDollars  SalesPrice  SalesDate  \\\n",
      "0             750mL              1         16.49       16.49 2016-01-01   \n",
      "1             750mL              2         32.98       16.49 2016-01-02   \n",
      "2             750mL              1         16.49       16.49 2016-01-03   \n",
      "3             750mL              1         14.49       14.49 2016-01-08   \n",
      "4        375mL 2 Pk              2         69.98       34.99 2016-01-09   \n",
      "...             ...            ...           ...         ...        ...   \n",
      "1048570       750mL              4         51.80       12.95 2016-02-12   \n",
      "1048571       750mL              8        103.60       12.95 2016-02-13   \n",
      "1048572       750mL              1         12.95       12.95 2016-02-19   \n",
      "1048573       750mL              3         38.85       12.95 2016-02-22   \n",
      "1048574       750mL              2         25.90       12.95 2016-02-24   \n",
      "\n",
      "         Volume  Classification  ExciseTax  VendorNo  \\\n",
      "0           750               1       0.79     12546   \n",
      "1           750               1       1.57     12546   \n",
      "2           750               1       0.79     12546   \n",
      "3           750               1       0.79     12546   \n",
      "4           375               1       0.79     12546   \n",
      "...         ...             ...        ...       ...   \n",
      "1048570     750               2       0.45      2000   \n",
      "1048571     750               2       0.90      2000   \n",
      "1048572     750               2       0.11      2000   \n",
      "1048573     750               2       0.34      2000   \n",
      "1048574     750               2       0.22      2000   \n",
      "\n",
      "                          VendorName  \n",
      "0        JIM BEAM BRANDS COMPANY      \n",
      "1        JIM BEAM BRANDS COMPANY      \n",
      "2        JIM BEAM BRANDS COMPANY      \n",
      "3        JIM BEAM BRANDS COMPANY      \n",
      "4        JIM BEAM BRANDS COMPANY      \n",
      "...                              ...  \n",
      "1048570  SOUTHERN WINE & SPIRITS NE   \n",
      "1048571  SOUTHERN WINE & SPIRITS NE   \n",
      "1048572  SOUTHERN WINE & SPIRITS NE   \n",
      "1048573  SOUTHERN WINE & SPIRITS NE   \n",
      "1048574  SOUTHERN WINE & SPIRITS NE   \n",
      "\n",
      "[1048575 rows x 14 columns]\n",
      "<bound method NDFrame.head of                  InventoryId  Store  Brand                 Description  \\\n",
      "0        1_HARDERSFIELD_1004      1   1004  Jim Beam w/2 Rocks Glasses   \n",
      "1        1_HARDERSFIELD_1004      1   1004  Jim Beam w/2 Rocks Glasses   \n",
      "2        1_HARDERSFIELD_1004      1   1004  Jim Beam w/2 Rocks Glasses   \n",
      "3        1_HARDERSFIELD_1004      1   1004  Jim Beam w/2 Rocks Glasses   \n",
      "4        1_HARDERSFIELD_1005      1   1005     Maker's Mark Combo Pack   \n",
      "...                      ...    ...    ...                         ...   \n",
      "1048570  19_WINTERVALE_39384     19  39384    F Coppola Diamond Pnt Nr   \n",
      "1048571  19_WINTERVALE_39384     19  39384    F Coppola Diamond Pnt Nr   \n",
      "1048572  19_WINTERVALE_39384     19  39384    F Coppola Diamond Pnt Nr   \n",
      "1048573  19_WINTERVALE_39384     19  39384    F Coppola Diamond Pnt Nr   \n",
      "1048574  19_WINTERVALE_39384     19  39384    F Coppola Diamond Pnt Nr   \n",
      "\n",
      "               Size  SalesQuantity  SalesDollars  SalesPrice  SalesDate  \\\n",
      "0             750mL              1         16.49       16.49 2016-01-01   \n",
      "1             750mL              2         32.98       16.49 2016-01-02   \n",
      "2             750mL              1         16.49       16.49 2016-01-03   \n",
      "3             750mL              1         14.49       14.49 2016-01-08   \n",
      "4        375mL 2 Pk              2         69.98       34.99 2016-01-09   \n",
      "...             ...            ...           ...         ...        ...   \n",
      "1048570       750mL              4         51.80       12.95 2016-02-12   \n",
      "1048571       750mL              8        103.60       12.95 2016-02-13   \n",
      "1048572       750mL              1         12.95       12.95 2016-02-19   \n",
      "1048573       750mL              3         38.85       12.95 2016-02-22   \n",
      "1048574       750mL              2         25.90       12.95 2016-02-24   \n",
      "\n",
      "         Volume  Classification  ExciseTax  VendorNo  \\\n",
      "0           750               1       0.79     12546   \n",
      "1           750               1       1.57     12546   \n",
      "2           750               1       0.79     12546   \n",
      "3           750               1       0.79     12546   \n",
      "4           375               1       0.79     12546   \n",
      "...         ...             ...        ...       ...   \n",
      "1048570     750               2       0.45      2000   \n",
      "1048571     750               2       0.90      2000   \n",
      "1048572     750               2       0.11      2000   \n",
      "1048573     750               2       0.34      2000   \n",
      "1048574     750               2       0.22      2000   \n",
      "\n",
      "                          VendorName  \n",
      "0        JIM BEAM BRANDS COMPANY      \n",
      "1        JIM BEAM BRANDS COMPANY      \n",
      "2        JIM BEAM BRANDS COMPANY      \n",
      "3        JIM BEAM BRANDS COMPANY      \n",
      "4        JIM BEAM BRANDS COMPANY      \n",
      "...                              ...  \n",
      "1048570  SOUTHERN WINE & SPIRITS NE   \n",
      "1048571  SOUTHERN WINE & SPIRITS NE   \n",
      "1048572  SOUTHERN WINE & SPIRITS NE   \n",
      "1048573  SOUTHERN WINE & SPIRITS NE   \n",
      "1048574  SOUTHERN WINE & SPIRITS NE   \n",
      "\n",
      "[1048575 rows x 14 columns]>\n"
     ]
    }
   ],
   "source": [
    "print (Sales_final_2016)\n",
    "print(Sales_final_2016.head)\n",
    "\n"
   ]
  },
  {
   "cell_type": "code",
   "execution_count": 16,
   "metadata": {},
   "outputs": [
    {
     "name": "stdout",
     "output_type": "stream",
     "text": [
      "<bound method NDFrame.head of                   InventoryId  Store  Brand                   Description  \\\n",
      "0           69_MOUNTMEND_8412     69   8412     Tequila Ocho Plata Fresno   \n",
      "1            30_CULCHETH_5255     30   5255  TGI Fridays Ultimte Mudslide   \n",
      "2           34_PITMERDEN_5215     34   5215  TGI Fridays Long Island Iced   \n",
      "3         1_HARDERSFIELD_5255      1   5255  TGI Fridays Ultimte Mudslide   \n",
      "4           76_DONCASTER_2034     76   2034     Glendalough Double Barrel   \n",
      "...                       ...    ...    ...                           ...   \n",
      "2372469     49_GARIGILL_22298     49  22298       Zorvino Vyds Sangiovese   \n",
      "2372470  1_HARDERSFIELD_19556      1  19556    Zorvino Bacca Z Blackberry   \n",
      "2372471   66_EANVERNESS_22297     66  22297            Zorvino Vyds Pearz   \n",
      "2372472    69_MOUNTMEND_19557     69  19557  Zorvino Fragole Z Strawberry   \n",
      "2372473    55_DRY GULCH_22298     55  22298       Zorvino Vyds Sangiovese   \n",
      "\n",
      "          Size  VendorNumber                   VendorName  PONumber  \\\n",
      "0        750mL           105  ALTAMAR BRANDS LLC               8124   \n",
      "1        1.75L          4466  AMERICAN VINTAGE BEVERAGE        8137   \n",
      "2        1.75L          4466  AMERICAN VINTAGE BEVERAGE        8137   \n",
      "3        1.75L          4466  AMERICAN VINTAGE BEVERAGE        8137   \n",
      "4        750mL           388  ATLANTIC IMPORTING COMPANY       8169   \n",
      "...        ...           ...                          ...       ...   \n",
      "2372469  750mL         90058  ZORVINO VINEYARDS               13593   \n",
      "2372470  750mL         90058  ZORVINO VINEYARDS               13593   \n",
      "2372471  750mL         90058  ZORVINO VINEYARDS               13593   \n",
      "2372472  750mL         90058  ZORVINO VINEYARDS               13593   \n",
      "2372473  750mL         90058  ZORVINO VINEYARDS               13593   \n",
      "\n",
      "             PODate ReceivingDate InvoiceDate     PayDate  PurchasePrice  \\\n",
      "0        2015-12-21    2016-01-02  2016-01-04  2016-02-16          35.71   \n",
      "1        2015-12-22    2016-01-01  2016-01-07  2016-02-21           9.35   \n",
      "2        2015-12-22    2016-01-02  2016-01-07  2016-02-21           9.41   \n",
      "3        2015-12-22    2016-01-01  2016-01-07  2016-02-21           9.35   \n",
      "4        2015-12-24    2016-01-02  2016-01-09  2016-02-16          21.32   \n",
      "...             ...           ...         ...         ...            ...   \n",
      "2372469  2016-12-19    2016-12-28  2017-01-09  2017-02-06           8.06   \n",
      "2372470  2016-12-19    2016-12-27  2017-01-09  2017-02-06           9.39   \n",
      "2372471  2016-12-19    2016-12-26  2017-01-09  2017-02-06           6.75   \n",
      "2372472  2016-12-19    2016-12-26  2017-01-09  2017-02-06           9.39   \n",
      "2372473  2016-12-19    2016-12-28  2017-01-09  2017-02-06           8.06   \n",
      "\n",
      "         Quantity  Dollars  Classification  \n",
      "0               6   214.26               1  \n",
      "1               4    37.40               1  \n",
      "2               5    47.05               1  \n",
      "3               6    56.10               1  \n",
      "4               5   106.60               1  \n",
      "...           ...      ...             ...  \n",
      "2372469        12    96.72               2  \n",
      "2372470        12   112.68               2  \n",
      "2372471        12    81.00               2  \n",
      "2372472        12   112.68               2  \n",
      "2372473        12    96.72               2  \n",
      "\n",
      "[2372474 rows x 16 columns]>\n"
     ]
    }
   ],
   "source": [
    "\n",
    "print(Purchase_final_2016.head)\n",
    "\n"
   ]
  },
  {
   "cell_type": "code",
   "execution_count": 20,
   "metadata": {},
   "outputs": [
    {
     "data": {
      "text/plain": [
       "InventoryId        object\n",
       "Store               int64\n",
       "Brand               int64\n",
       "Description        object\n",
       "Size               object\n",
       "VendorNumber        int64\n",
       "VendorName         object\n",
       "PONumber            int64\n",
       "PODate             object\n",
       "ReceivingDate      object\n",
       "InvoiceDate        object\n",
       "PayDate            object\n",
       "PurchasePrice     float64\n",
       "Quantity            int64\n",
       "Dollars           float64\n",
       "Classification      int64\n",
       "dtype: object"
      ]
     },
     "execution_count": 20,
     "metadata": {},
     "output_type": "execute_result"
    }
   ],
   "source": [
    "Purchase_final_2016.dtypes"
   ]
  },
  {
   "cell_type": "code",
   "execution_count": 24,
   "metadata": {},
   "outputs": [
    {
     "name": "stdout",
     "output_type": "stream",
     "text": [
      "Index(['InventoryId', 'Store', 'Brand', 'Description', 'Size', 'VendorNumber',\n",
      "       'VendorName', 'PONumber', 'PODate', 'ReceivingDate', 'InvoiceDate',\n",
      "       'PayDate', 'PurchasePrice', 'Quantity', 'Dollars', 'Classification'],\n",
      "      dtype='object')\n"
     ]
    }
   ],
   "source": [
    "print(Purchase_final_2016.columns)"
   ]
  },
  {
   "cell_type": "code",
   "execution_count": 26,
   "metadata": {},
   "outputs": [
    {
     "name": "stdout",
     "output_type": "stream",
     "text": [
      "<class 'pandas.core.frame.DataFrame'>\n",
      "RangeIndex: 2372474 entries, 0 to 2372473\n",
      "Data columns (total 16 columns):\n",
      " #   Column          Dtype         \n",
      "---  ------          -----         \n",
      " 0   InventoryId     object        \n",
      " 1   Store           int64         \n",
      " 2   Brand           int64         \n",
      " 3   Description     object        \n",
      " 4   Size            object        \n",
      " 5   VendorNumber    int64         \n",
      " 6   VendorName      object        \n",
      " 7   PONumber        int64         \n",
      " 8   PODate          datetime64[ns]\n",
      " 9   ReceivingDate   datetime64[ns]\n",
      " 10  InvoiceDate     datetime64[ns]\n",
      " 11  PayDate         datetime64[ns]\n",
      " 12  PurchasePrice   float64       \n",
      " 13  Quantity        int64         \n",
      " 14  Dollars         float64       \n",
      " 15  Classification  int64         \n",
      "dtypes: datetime64[ns](4), float64(2), int64(6), object(4)\n",
      "memory usage: 289.6+ MB\n",
      "None\n"
     ]
    }
   ],
   "source": [
    "# Lista de columnas a convertir\n",
    "columnas_a_convertir = ['PODate', 'ReceivingDate', 'InvoiceDate', 'PayDate']\n",
    "\n",
    "# Convertir cada columna a formato datetime\n",
    "for columna in columnas_a_convertir:\n",
    "    Purchase_final_2016[columna] = pd.to_datetime(Purchase_final_2016[columna], errors='coerce')\n",
    "\n",
    "# Verificar la conversión\n",
    "print(Purchase_final_2016.info())"
   ]
  },
  {
   "cell_type": "code",
   "execution_count": 17,
   "metadata": {},
   "outputs": [
    {
     "name": "stdout",
     "output_type": "stream",
     "text": [
      "<bound method NDFrame.head of       VendorNumber                   VendorName InvoiceDate  PONumber  \\\n",
      "0              105  ALTAMAR BRANDS LLC           2016-01-04      8124   \n",
      "1             4466  AMERICAN VINTAGE BEVERAGE    2016-01-07      8137   \n",
      "2              388  ATLANTIC IMPORTING COMPANY   2016-01-09      8169   \n",
      "3              480  BACARDI USA INC              2016-01-12      8106   \n",
      "4              516  BANFI PRODUCTS CORP          2016-01-07      8170   \n",
      "...            ...                          ...         ...       ...   \n",
      "5538          9622  WEIN BAUER INC               2017-01-06     13626   \n",
      "5539          9625  WESTERN SPIRITS BEVERAGE CO  2017-01-10     13661   \n",
      "5540          3664  WILLIAM GRANT & SONS INC     2017-01-02     13643   \n",
      "5541          9815  WINE GROUP INC               2017-01-03     13602   \n",
      "5542         90058  ZORVINO VINEYARDS            2017-01-05     13574   \n",
      "\n",
      "          PODate     PayDate  Quantity    Dollars  Freight Approval  \n",
      "0     2015-12-21  2016-02-16         6     214.26     3.47      NaN  \n",
      "1     2015-12-22  2016-02-21        15     140.55     8.57      NaN  \n",
      "2     2015-12-24  2016-02-16         5     106.60     4.61      NaN  \n",
      "3     2015-12-20  2016-02-05     10100  137483.78  2935.20      NaN  \n",
      "4     2015-12-24  2016-02-12      1935   15527.25   429.20      NaN  \n",
      "...          ...         ...       ...        ...      ...      ...  \n",
      "5538  2016-12-21  2017-02-10        90    1563.00     8.60      NaN  \n",
      "5539  2016-12-23  2017-02-18      4617   37300.48   186.50      NaN  \n",
      "5540  2016-12-22  2017-02-04      9848  202815.78   932.95      NaN  \n",
      "5541  2016-12-20  2017-02-08     24747  149007.56   819.54      NaN  \n",
      "5542  2016-12-18  2017-02-12       437    3608.11    16.60      NaN  \n",
      "\n",
      "[5543 rows x 10 columns]>\n"
     ]
    }
   ],
   "source": [
    "print(Invoice_purchases_2016.head)"
   ]
  },
  {
   "cell_type": "code",
   "execution_count": 28,
   "metadata": {},
   "outputs": [
    {
     "name": "stdout",
     "output_type": "stream",
     "text": [
      "Index(['VendorNumber', 'VendorName', 'InvoiceDate', 'PONumber', 'PODate',\n",
      "       'PayDate', 'Quantity', 'Dollars', 'Freight', 'Approval'],\n",
      "      dtype='object')\n",
      "<class 'pandas.core.frame.DataFrame'>\n",
      "RangeIndex: 5543 entries, 0 to 5542\n",
      "Data columns (total 10 columns):\n",
      " #   Column        Non-Null Count  Dtype         \n",
      "---  ------        --------------  -----         \n",
      " 0   VendorNumber  5543 non-null   int64         \n",
      " 1   VendorName    5543 non-null   object        \n",
      " 2   InvoiceDate   5543 non-null   datetime64[ns]\n",
      " 3   PONumber      5543 non-null   int64         \n",
      " 4   PODate        5543 non-null   datetime64[ns]\n",
      " 5   PayDate       5543 non-null   datetime64[ns]\n",
      " 6   Quantity      5543 non-null   int64         \n",
      " 7   Dollars       5543 non-null   float64       \n",
      " 8   Freight       5543 non-null   float64       \n",
      " 9   Approval      374 non-null    object        \n",
      "dtypes: datetime64[ns](3), float64(2), int64(3), object(2)\n",
      "memory usage: 433.2+ KB\n",
      "None\n"
     ]
    }
   ],
   "source": [
    "# Verificar las columnas en la tabla Invoice_purchase_2016\n",
    "print(Invoice_purchases_2016.columns)\n",
    "\n",
    "# Convertir las columnas de fecha en Invoice_purchase_2016\n",
    "columnas_a_convertir = ['InvoiceDate', 'PODate', 'PayDate']\n",
    "for columna in columnas_a_convertir:\n",
    "    if columna in Invoice_purchases_2016.columns:\n",
    "        Invoice_purchases_2016[columna] = pd.to_datetime(Invoice_purchases_2016[columna], errors='coerce')\n",
    "    else:\n",
    "        print(f\"La columna {columna} no se encuentra en la tabla.\")\n",
    "\n",
    "# Verificar los resultados de la conversión\n",
    "print(Invoice_purchases_2016.info())"
   ]
  },
  {
   "cell_type": "code",
   "execution_count": 11,
   "metadata": {},
   "outputs": [
    {
     "data": {
      "text/plain": [
       "InventoryId        object\n",
       "Store               int64\n",
       "Brand               int64\n",
       "Description        object\n",
       "Size               object\n",
       "SalesQuantity       int64\n",
       "SalesDollars      float64\n",
       "SalesPrice        float64\n",
       "SalesDate          object\n",
       "Volume              int64\n",
       "Classification      int64\n",
       "ExciseTax         float64\n",
       "VendorNo            int64\n",
       "VendorName         object\n",
       "dtype: object"
      ]
     },
     "execution_count": 11,
     "metadata": {},
     "output_type": "execute_result"
    }
   ],
   "source": [
    "Sales_final_2016.dtypes"
   ]
  },
  {
   "cell_type": "code",
   "execution_count": 12,
   "metadata": {},
   "outputs": [],
   "source": [
    "# Convertir la columna 'salesdate' de string a datetime\n",
    "Sales_final_2016['SalesDate'] = pd.to_datetime(Sales_final_2016['SalesDate'], errors='coerce')"
   ]
  },
  {
   "cell_type": "code",
   "execution_count": 13,
   "metadata": {},
   "outputs": [
    {
     "data": {
      "text/plain": [
       "InventoryId               object\n",
       "Store                      int64\n",
       "Brand                      int64\n",
       "Description               object\n",
       "Size                      object\n",
       "SalesQuantity              int64\n",
       "SalesDollars             float64\n",
       "SalesPrice               float64\n",
       "SalesDate         datetime64[ns]\n",
       "Volume                     int64\n",
       "Classification             int64\n",
       "ExciseTax                float64\n",
       "VendorNo                   int64\n",
       "VendorName                object\n",
       "dtype: object"
      ]
     },
     "execution_count": 13,
     "metadata": {},
     "output_type": "execute_result"
    }
   ],
   "source": [
    "Sales_final_2016.dtypes"
   ]
  },
  {
   "cell_type": "code",
   "execution_count": 18,
   "metadata": {},
   "outputs": [
    {
     "data": {
      "text/plain": [
       "InventoryId        object\n",
       "Store               int64\n",
       "Brand               int64\n",
       "Description        object\n",
       "Size               object\n",
       "VendorNumber        int64\n",
       "VendorName         object\n",
       "PONumber            int64\n",
       "PODate             object\n",
       "ReceivingDate      object\n",
       "InvoiceDate        object\n",
       "PayDate            object\n",
       "PurchasePrice     float64\n",
       "Quantity            int64\n",
       "Dollars           float64\n",
       "Classification      int64\n",
       "dtype: object"
      ]
     },
     "execution_count": 18,
     "metadata": {},
     "output_type": "execute_result"
    }
   ],
   "source": [
    "Purchase_final_2016.dtypes"
   ]
  },
  {
   "cell_type": "code",
   "execution_count": 38,
   "metadata": {},
   "outputs": [
    {
     "name": "stdout",
     "output_type": "stream",
     "text": [
      "Valores nulos en Sales_final_2016 por columna:\n",
      "InventoryId       0\n",
      "Store             0\n",
      "Brand             0\n",
      "Description       0\n",
      "Size              0\n",
      "SalesQuantity     0\n",
      "SalesDollars      0\n",
      "SalesPrice        0\n",
      "SalesDate         0\n",
      "Volume            0\n",
      "Classification    0\n",
      "ExciseTax         0\n",
      "VendorNo          0\n",
      "VendorName        0\n",
      "dtype: int64\n",
      "Valores nulos en Purchase_final_2016 por columna:\n",
      "InventoryId       0\n",
      "Store             0\n",
      "Brand             0\n",
      "Description       0\n",
      "Size              0\n",
      "VendorNumber      0\n",
      "VendorName        0\n",
      "PONumber          0\n",
      "PODate            0\n",
      "ReceivingDate     0\n",
      "InvoiceDate       0\n",
      "PayDate           0\n",
      "PurchasePrice     0\n",
      "Quantity          0\n",
      "Dollars           0\n",
      "Classification    0\n",
      "dtype: int64\n",
      "Valores nulos en Invoice_purchase_2016 por columna:\n",
      "VendorNumber       0\n",
      "VendorName         0\n",
      "InvoiceDate        0\n",
      "PONumber           0\n",
      "PODate             0\n",
      "PayDate            0\n",
      "Quantity           0\n",
      "Dollars            0\n",
      "Freight            0\n",
      "Approval        5169\n",
      "dtype: int64\n"
     ]
    }
   ],
   "source": [
    "# Para verificar valores nulos por columna\n",
    "print(\"Valores nulos en Sales_final_2016 por columna:\")\n",
    "print(Sales_final_2016.isnull().sum())\n",
    "\n",
    "print(\"Valores nulos en Purchase_final_2016 por columna:\")\n",
    "print(Purchase_final_2016.isnull().sum())\n",
    "\n",
    "print(\"Valores nulos en Invoice_purchase_2016 por columna:\")\n",
    "print(Invoice_purchases_2016.isnull().sum())"
   ]
  },
  {
   "cell_type": "code",
   "execution_count": 37,
   "metadata": {},
   "outputs": [
    {
     "name": "stdout",
     "output_type": "stream",
     "text": [
      "Size\n",
      "750mL    1207700\n",
      "1.75L     593298\n",
      "1.5L      229841\n",
      "50mL       73333\n",
      "375mL      70385\n",
      "Name: count, dtype: int64\n"
     ]
    }
   ],
   "source": [
    "# Identificar los valores más comunes en la columna\n",
    "valores_comunes = Purchase_final_2016['Size'].value_counts()\n",
    "print(valores_comunes.head(5))  # Analizar los patrones más comunes"
   ]
  },
  {
   "cell_type": "code",
   "execution_count": 39,
   "metadata": {},
   "outputs": [
    {
     "name": "stdout",
     "output_type": "stream",
     "text": [
      "Valores nulos en Sales_final_2016 por columna:\n",
      "InventoryId       0\n",
      "Store             0\n",
      "Brand             0\n",
      "Description       0\n",
      "Size              0\n",
      "SalesQuantity     0\n",
      "SalesDollars      0\n",
      "SalesPrice        0\n",
      "SalesDate         0\n",
      "Volume            0\n",
      "Classification    0\n",
      "ExciseTax         0\n",
      "VendorNo          0\n",
      "VendorName        0\n",
      "dtype: int64\n",
      "Valores nulos en Purchase_final_2016 por columna:\n",
      "InventoryId       0\n",
      "Store             0\n",
      "Brand             0\n",
      "Description       0\n",
      "Size              0\n",
      "VendorNumber      0\n",
      "VendorName        0\n",
      "PONumber          0\n",
      "PODate            0\n",
      "ReceivingDate     0\n",
      "InvoiceDate       0\n",
      "PayDate           0\n",
      "PurchasePrice     0\n",
      "Quantity          0\n",
      "Dollars           0\n",
      "Classification    0\n",
      "dtype: int64\n",
      "Valores nulos en Invoice_purchase_2016 por columna:\n",
      "VendorNumber       0\n",
      "VendorName         0\n",
      "InvoiceDate        0\n",
      "PONumber           0\n",
      "PODate             0\n",
      "PayDate            0\n",
      "Quantity           0\n",
      "Dollars            0\n",
      "Freight            0\n",
      "Approval        5169\n",
      "dtype: int64\n"
     ]
    }
   ],
   "source": [
    "# Para verificar valores nulos por columna\n",
    "print(\"Valores nulos en Sales_final_2016 por columna:\")\n",
    "print(Sales_final_2016.isnull().sum())\n",
    "\n",
    "print(\"Valores nulos en Purchase_final_2016 por columna:\")\n",
    "print(Purchase_final_2016.isnull().sum())\n",
    "\n",
    "print(\"Valores nulos en Invoice_purchase_2016 por columna:\")\n",
    "print(Invoice_purchases_2016.isnull().sum())"
   ]
  },
  {
   "cell_type": "code",
   "execution_count": 41,
   "metadata": {},
   "outputs": [
    {
     "name": "stdout",
     "output_type": "stream",
     "text": [
      "Index(['VendorNumber', 'VendorName', 'InvoiceDate', 'PONumber', 'PODate',\n",
      "       'PayDate', 'Quantity', 'Dollars', 'Freight', 'Approval'],\n",
      "      dtype='object')\n"
     ]
    }
   ],
   "source": [
    "print(Invoice_purchases_2016.columns)"
   ]
  },
  {
   "cell_type": "code",
   "execution_count": null,
   "metadata": {},
   "outputs": [],
   "source": []
  }
 ],
 "metadata": {
  "kernelspec": {
   "display_name": "Python 3",
   "language": "python",
   "name": "python3"
  },
  "language_info": {
   "codemirror_mode": {
    "name": "ipython",
    "version": 3
   },
   "file_extension": ".py",
   "mimetype": "text/x-python",
   "name": "python",
   "nbconvert_exporter": "python",
   "pygments_lexer": "ipython3",
   "version": "3.11.0"
  }
 },
 "nbformat": 4,
 "nbformat_minor": 2
}
