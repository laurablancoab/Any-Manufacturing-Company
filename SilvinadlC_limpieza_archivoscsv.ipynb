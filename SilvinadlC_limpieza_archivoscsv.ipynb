{
 "cells": [
  {
   "cell_type": "code",
   "execution_count": 2,
   "metadata": {},
   "outputs": [],
   "source": [
    "import pandas as pd\n",
    "import numpy as np\n"
   ]
  },
  {
   "cell_type": "code",
   "execution_count": 3,
   "metadata": {},
   "outputs": [],
   "source": [
    "import warnings\n",
    "warnings.filterwarnings (\"ignore\")"
   ]
  },
  {
   "cell_type": "code",
   "execution_count": 4,
   "metadata": {},
   "outputs": [],
   "source": [
    "# Cargar archivo CSV\n",
    "df_2017PurchasePrices = pd.read_csv ('2017PurchasePricesDec.csv')"
   ]
  },
  {
   "cell_type": "code",
   "execution_count": 5,
   "metadata": {},
   "outputs": [
    {
     "name": "stdout",
     "output_type": "stream",
     "text": [
      "   Brand                  Description  Price   Size Volume  Classification  \\\n",
      "0     58  Gekkeikan Black & Gold Sake  12.99  750mL    750               1   \n",
      "1     62     Herradura Silver Tequila  36.99  750mL    750               1   \n",
      "2     63   Herradura Reposado Tequila  38.99  750mL    750               1   \n",
      "3     72         No. 3 London Dry Gin  34.99  750mL    750               1   \n",
      "4     75    Three Olives Tomato Vodka  14.99  750mL    750               1   \n",
      "\n",
      "   PurchasePrice  VendorNumber                   VendorName  \n",
      "0           9.28          8320  SHAW ROSS INT L IMP LTD      \n",
      "1          28.67          1128  BROWN-FORMAN CORP            \n",
      "2          30.46          1128  BROWN-FORMAN CORP            \n",
      "3          26.11          9165  ULTRA BEVERAGE COMPANY LLP   \n",
      "4          10.94          7245  PROXIMO SPIRITS INC.         \n",
      "<class 'pandas.core.frame.DataFrame'>\n",
      "RangeIndex: 12261 entries, 0 to 12260\n",
      "Data columns (total 9 columns):\n",
      " #   Column          Non-Null Count  Dtype  \n",
      "---  ------          --------------  -----  \n",
      " 0   Brand           12261 non-null  int64  \n",
      " 1   Description     12260 non-null  object \n",
      " 2   Price           12261 non-null  float64\n",
      " 3   Size            12260 non-null  object \n",
      " 4   Volume          12260 non-null  object \n",
      " 5   Classification  12261 non-null  int64  \n",
      " 6   PurchasePrice   12261 non-null  float64\n",
      " 7   VendorNumber    12261 non-null  int64  \n",
      " 8   VendorName      12261 non-null  object \n",
      "dtypes: float64(2), int64(3), object(4)\n",
      "memory usage: 862.2+ KB\n",
      "None\n",
      "              Brand         Price  Classification  PurchasePrice  \\\n",
      "count  12261.000000  12261.000000    12261.000000   12261.000000   \n",
      "mean   17989.067123     38.640240        1.708996      26.488220   \n",
      "std    12528.503464    206.151172        0.454244     156.182948   \n",
      "min       58.000000      0.000000        1.000000       0.000000   \n",
      "25%     5990.000000     10.990000        1.000000       6.890000   \n",
      "50%    18788.000000     15.990000        2.000000      10.650000   \n",
      "75%    25117.000000     29.990000        2.000000      20.130000   \n",
      "max    90631.000000  13999.900000        2.000000   11111.030000   \n",
      "\n",
      "        VendorNumber  \n",
      "count   12261.000000  \n",
      "mean    10814.861757  \n",
      "std     19007.682322  \n",
      "min         2.000000  \n",
      "25%      3960.000000  \n",
      "50%      7153.000000  \n",
      "75%      9552.000000  \n",
      "max    173357.000000  \n"
     ]
    }
   ],
   "source": [
    "# Verificar estructura de los datos\n",
    "print(df_2017PurchasePrices.head())\n",
    "print(df_2017PurchasePrices.info())\n",
    "print(df_2017PurchasePrices.describe())\n"
   ]
  },
  {
   "cell_type": "code",
   "execution_count": 10,
   "metadata": {},
   "outputs": [
    {
     "name": "stdout",
     "output_type": "stream",
     "text": [
      "Index(['Brand', 'Description', 'Price', 'Size', 'Volume', 'Classification',\n",
      "       'PurchasePrice', 'VendorNumber', 'VendorName'],\n",
      "      dtype='object')\n"
     ]
    }
   ],
   "source": [
    "print (df_2017PurchasePrices.columns)"
   ]
  },
  {
   "cell_type": "code",
   "execution_count": null,
   "metadata": {},
   "outputs": [],
   "source": [
    "df_2017PurchasePrices ['Volume'] = pd.to_numeric(df_2017PurchasePrices['Volume'])"
   ]
  },
  {
   "cell_type": "code",
   "execution_count": 16,
   "metadata": {},
   "outputs": [],
   "source": [
    "# Convertir tamaños a categorías\n",
    "df_2017PurchasePrices['Size'] = df_2017PurchasePrices['Size'].astype('category')\n"
   ]
  },
  {
   "cell_type": "code",
   "execution_count": 17,
   "metadata": {},
   "outputs": [
    {
     "data": {
      "text/plain": [
       "Brand             0\n",
       "Description       1\n",
       "Price             0\n",
       "Size              1\n",
       "Volume            1\n",
       "Classification    0\n",
       "PurchasePrice     0\n",
       "VendorNumber      0\n",
       "VendorName        0\n",
       "dtype: int64"
      ]
     },
     "execution_count": 17,
     "metadata": {},
     "output_type": "execute_result"
    }
   ],
   "source": [
    "df_2017PurchasePrices.isnull () . sum()"
   ]
  },
  {
   "cell_type": "code",
   "execution_count": 18,
   "metadata": {},
   "outputs": [
    {
     "data": {
      "text/plain": [
       "Brand                int64\n",
       "Description         object\n",
       "Price              float64\n",
       "Size              category\n",
       "Volume              object\n",
       "Classification       int64\n",
       "PurchasePrice      float64\n",
       "VendorNumber         int64\n",
       "VendorName          object\n",
       "dtype: object"
      ]
     },
     "execution_count": 18,
     "metadata": {},
     "output_type": "execute_result"
    }
   ],
   "source": [
    "df_2017PurchasePrices.dtypes"
   ]
  },
  {
   "cell_type": "code",
   "execution_count": 19,
   "metadata": {},
   "outputs": [],
   "source": [
    "# Guardar datos limpios y normalizados\n",
    "df_2017PurchasePrices.to_csv('2017PurchasePricesFinal.csv', index=False)\n"
   ]
  },
  {
   "cell_type": "code",
   "execution_count": 6,
   "metadata": {},
   "outputs": [],
   "source": [
    "# Cargar archivo CSV\n",
    "df_BegInv = pd.read_csv ('BegInvFinal12312016.csv')"
   ]
  },
  {
   "cell_type": "code",
   "execution_count": 7,
   "metadata": {},
   "outputs": [
    {
     "name": "stdout",
     "output_type": "stream",
     "text": [
      "         InventoryId  Store          City  Brand                  Description  \\\n",
      "0  1_HARDERSFIELD_58      1  HARDERSFIELD     58  Gekkeikan Black & Gold Sake   \n",
      "1  1_HARDERSFIELD_60      1  HARDERSFIELD     60       Canadian Club 1858 VAP   \n",
      "2  1_HARDERSFIELD_62      1  HARDERSFIELD     62     Herradura Silver Tequila   \n",
      "3  1_HARDERSFIELD_63      1  HARDERSFIELD     63   Herradura Reposado Tequila   \n",
      "4  1_HARDERSFIELD_72      1  HARDERSFIELD     72         No. 3 London Dry Gin   \n",
      "\n",
      "    Size  onHand  Price   startDate  \n",
      "0  750mL       8  12.99  2016-01-01  \n",
      "1  750mL       7  10.99  2016-01-01  \n",
      "2  750mL       6  36.99  2016-01-01  \n",
      "3  750mL       3  38.99  2016-01-01  \n",
      "4  750mL       6  34.99  2016-01-01  \n",
      "<class 'pandas.core.frame.DataFrame'>\n",
      "RangeIndex: 206529 entries, 0 to 206528\n",
      "Data columns (total 9 columns):\n",
      " #   Column       Non-Null Count   Dtype  \n",
      "---  ------       --------------   -----  \n",
      " 0   InventoryId  206529 non-null  object \n",
      " 1   Store        206529 non-null  int64  \n",
      " 2   City         206529 non-null  object \n",
      " 3   Brand        206529 non-null  int64  \n",
      " 4   Description  206529 non-null  object \n",
      " 5   Size         206529 non-null  object \n",
      " 6   onHand       206529 non-null  int64  \n",
      " 7   Price        206529 non-null  float64\n",
      " 8   startDate    206529 non-null  object \n",
      "dtypes: float64(1), int64(3), object(5)\n",
      "memory usage: 14.2+ MB\n",
      "None\n",
      "               Store          Brand         onHand          Price\n",
      "count  206529.000000  206529.000000  206529.000000  206529.000000\n",
      "mean       42.122457   13761.482320      20.429455      22.253910\n",
      "std        23.191393   13059.429355      31.467342      70.178964\n",
      "min         1.000000      58.000000       0.000000       0.000000\n",
      "25%        22.000000    3746.000000       7.000000       9.990000\n",
      "50%        42.000000    8010.000000      12.000000      14.990000\n",
      "75%        64.000000   22143.000000      21.000000      21.990000\n",
      "max        79.000000   90090.000000    1251.000000   13999.900000\n"
     ]
    }
   ],
   "source": [
    "# Verificar estructura de los datos\n",
    "print(df_BegInv.head())\n",
    "print(df_BegInv.info())\n",
    "print(df_BegInv.describe())"
   ]
  },
  {
   "cell_type": "code",
   "execution_count": 20,
   "metadata": {},
   "outputs": [],
   "source": [
    "# Convertir tamaños a categorías\n",
    "df_BegInv['Size'] = df_BegInv['Size'].astype('category')"
   ]
  },
  {
   "cell_type": "code",
   "execution_count": null,
   "metadata": {},
   "outputs": [],
   "source": [
    "# Convertir fechas en datetime\n",
    "df_BegInv ['startDate'] = pd.to_datetime (df_BegInv ['startDate'])"
   ]
  },
  {
   "cell_type": "code",
   "execution_count": 23,
   "metadata": {},
   "outputs": [
    {
     "data": {
      "text/plain": [
       "InventoryId            object\n",
       "Store                   int64\n",
       "City                   object\n",
       "Brand                   int64\n",
       "Description            object\n",
       "Size                 category\n",
       "onHand                  int64\n",
       "Price                 float64\n",
       "startDate      datetime64[ns]\n",
       "dtype: object"
      ]
     },
     "execution_count": 23,
     "metadata": {},
     "output_type": "execute_result"
    }
   ],
   "source": [
    "df_BegInv.dtypes"
   ]
  },
  {
   "cell_type": "code",
   "execution_count": 24,
   "metadata": {},
   "outputs": [],
   "source": [
    "# Guardar datos limpios y normalizados\n",
    "df_BegInv.to_csv('BegInvFinal.csv', index=False)\n"
   ]
  },
  {
   "cell_type": "code",
   "execution_count": 8,
   "metadata": {},
   "outputs": [],
   "source": [
    "# Cargar archivo CSV\n",
    "df_EndInv = pd.read_csv ('EndInvFinal12312016.csv')"
   ]
  },
  {
   "cell_type": "code",
   "execution_count": 9,
   "metadata": {},
   "outputs": [
    {
     "name": "stdout",
     "output_type": "stream",
     "text": [
      "         InventoryId  Store          City  Brand                  Description  \\\n",
      "0  1_HARDERSFIELD_58      1  HARDERSFIELD     58  Gekkeikan Black & Gold Sake   \n",
      "1  1_HARDERSFIELD_62      1  HARDERSFIELD     62     Herradura Silver Tequila   \n",
      "2  1_HARDERSFIELD_63      1  HARDERSFIELD     63   Herradura Reposado Tequila   \n",
      "3  1_HARDERSFIELD_72      1  HARDERSFIELD     72         No. 3 London Dry Gin   \n",
      "4  1_HARDERSFIELD_75      1  HARDERSFIELD     75    Three Olives Tomato Vodka   \n",
      "\n",
      "    Size  onHand  Price     endDate  \n",
      "0  750mL      11  12.99  2016-12-31  \n",
      "1  750mL       7  36.99  2016-12-31  \n",
      "2  750mL       7  38.99  2016-12-31  \n",
      "3  750mL       4  34.99  2016-12-31  \n",
      "4  750mL       7  14.99  2016-12-31  \n",
      "<class 'pandas.core.frame.DataFrame'>\n",
      "RangeIndex: 224489 entries, 0 to 224488\n",
      "Data columns (total 9 columns):\n",
      " #   Column       Non-Null Count   Dtype  \n",
      "---  ------       --------------   -----  \n",
      " 0   InventoryId  224489 non-null  object \n",
      " 1   Store        224489 non-null  int64  \n",
      " 2   City         223205 non-null  object \n",
      " 3   Brand        224489 non-null  int64  \n",
      " 4   Description  224489 non-null  object \n",
      " 5   Size         224489 non-null  object \n",
      " 6   onHand       224489 non-null  int64  \n",
      " 7   Price        224489 non-null  float64\n",
      " 8   endDate      224489 non-null  object \n",
      "dtypes: float64(1), int64(3), object(5)\n",
      "memory usage: 15.4+ MB\n",
      "None\n",
      "               Store          Brand         onHand          Price\n",
      "count  224489.000000  224489.000000  224489.000000  224489.000000\n",
      "mean       43.505740   14356.370513      21.763988      23.585583\n",
      "std        23.326415   13118.467851      37.233576      79.202775\n",
      "min         1.000000      58.000000       0.000000       0.490000\n",
      "25%        23.000000    3798.000000       7.000000       9.990000\n",
      "50%        44.000000    8259.000000      12.000000      14.990000\n",
      "75%        66.000000   23965.000000      22.000000      23.490000\n",
      "max        81.000000   90631.000000    3676.000000   13999.900000\n"
     ]
    }
   ],
   "source": [
    "# Verificar estructura de los datos\n",
    "print(df_EndInv.head())\n",
    "print(df_EndInv.info())\n",
    "print(df_EndInv.describe())"
   ]
  },
  {
   "cell_type": "code",
   "execution_count": 25,
   "metadata": {},
   "outputs": [],
   "source": [
    "# Convertir tamaños a categorías\n",
    "df_EndInv ['Size'] = df_EndInv['Size'].astype('category')"
   ]
  },
  {
   "cell_type": "code",
   "execution_count": 28,
   "metadata": {},
   "outputs": [],
   "source": [
    "# Convertir fechas en datetime\n",
    "df_EndInv['endDate'] = pd.to_datetime (df_EndInv['endDate'])"
   ]
  },
  {
   "cell_type": "code",
   "execution_count": 30,
   "metadata": {},
   "outputs": [
    {
     "data": {
      "text/plain": [
       "InventoryId            object\n",
       "Store                   int64\n",
       "City                   object\n",
       "Brand                   int64\n",
       "Description            object\n",
       "Size                 category\n",
       "onHand                  int64\n",
       "Price                 float64\n",
       "endDate        datetime64[ns]\n",
       "dtype: object"
      ]
     },
     "execution_count": 30,
     "metadata": {},
     "output_type": "execute_result"
    }
   ],
   "source": [
    "df_EndInv.dtypes"
   ]
  },
  {
   "cell_type": "code",
   "execution_count": 31,
   "metadata": {},
   "outputs": [],
   "source": [
    "# Guardar datos limpios y normalizados\n",
    "df_EndInv.to_csv('EndInvFinal.csv', index=False)"
   ]
  }
 ],
 "metadata": {
  "kernelspec": {
   "display_name": "Python 3",
   "language": "python",
   "name": "python3"
  },
  "language_info": {
   "codemirror_mode": {
    "name": "ipython",
    "version": 3
   },
   "file_extension": ".py",
   "mimetype": "text/x-python",
   "name": "python",
   "nbconvert_exporter": "python",
   "pygments_lexer": "ipython3",
   "version": "3.12.6"
  }
 },
 "nbformat": 4,
 "nbformat_minor": 2
}
